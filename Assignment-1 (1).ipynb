{
 "cells": [
  {
   "cell_type": "markdown",
   "id": "9b4d20fc",
   "metadata": {},
   "source": [
    "# 1.Handle the missing values"
   ]
  },
  {
   "cell_type": "code",
   "execution_count": 63,
   "id": "dd5d38ac",
   "metadata": {},
   "outputs": [],
   "source": [
    "import pandas as pd\n",
    "import numpy as np\n",
    "import seaborn as sns\n",
    "import matplotlib.pyplot as plt"
   ]
  },
  {
   "cell_type": "code",
   "execution_count": 64,
   "id": "ea612811",
   "metadata": {},
   "outputs": [],
   "source": [
    "data=pd.read_csv(r\"C:\\Users\\yoojin\\OneDrive\\Desktop\\diamonds_new (1).csv\")"
   ]
  },
  {
   "cell_type": "code",
   "execution_count": 65,
   "id": "e0ff3e60",
   "metadata": {},
   "outputs": [
    {
     "data": {
      "text/html": [
       "<div>\n",
       "<style scoped>\n",
       "    .dataframe tbody tr th:only-of-type {\n",
       "        vertical-align: middle;\n",
       "    }\n",
       "\n",
       "    .dataframe tbody tr th {\n",
       "        vertical-align: top;\n",
       "    }\n",
       "\n",
       "    .dataframe thead th {\n",
       "        text-align: right;\n",
       "    }\n",
       "</style>\n",
       "<table border=\"1\" class=\"dataframe\">\n",
       "  <thead>\n",
       "    <tr style=\"text-align: right;\">\n",
       "      <th></th>\n",
       "      <th>carat</th>\n",
       "      <th>cut</th>\n",
       "      <th>color</th>\n",
       "      <th>clarity</th>\n",
       "      <th>table</th>\n",
       "      <th>x</th>\n",
       "      <th>y</th>\n",
       "      <th>z</th>\n",
       "      <th>price_new</th>\n",
       "    </tr>\n",
       "  </thead>\n",
       "  <tbody>\n",
       "    <tr>\n",
       "      <th>0</th>\n",
       "      <td>0.23</td>\n",
       "      <td>Ideal</td>\n",
       "      <td>E</td>\n",
       "      <td>SI2</td>\n",
       "      <td>55.0</td>\n",
       "      <td>3.95</td>\n",
       "      <td>3.98</td>\n",
       "      <td>2.43</td>\n",
       "      <td>163.0</td>\n",
       "    </tr>\n",
       "    <tr>\n",
       "      <th>1</th>\n",
       "      <td>0.21</td>\n",
       "      <td>Premium</td>\n",
       "      <td>E</td>\n",
       "      <td>SI1</td>\n",
       "      <td>61.0</td>\n",
       "      <td>3.89</td>\n",
       "      <td>3.84</td>\n",
       "      <td>2.31</td>\n",
       "      <td>163.0</td>\n",
       "    </tr>\n",
       "    <tr>\n",
       "      <th>2</th>\n",
       "      <td>0.23</td>\n",
       "      <td>Good</td>\n",
       "      <td>E</td>\n",
       "      <td>VS1</td>\n",
       "      <td>65.0</td>\n",
       "      <td>4.05</td>\n",
       "      <td>4.07</td>\n",
       "      <td>2.31</td>\n",
       "      <td>163.5</td>\n",
       "    </tr>\n",
       "    <tr>\n",
       "      <th>3</th>\n",
       "      <td>0.29</td>\n",
       "      <td>Premium</td>\n",
       "      <td>I</td>\n",
       "      <td>VS2</td>\n",
       "      <td>58.0</td>\n",
       "      <td>4.20</td>\n",
       "      <td>4.23</td>\n",
       "      <td>2.63</td>\n",
       "      <td>167.0</td>\n",
       "    </tr>\n",
       "    <tr>\n",
       "      <th>4</th>\n",
       "      <td>0.31</td>\n",
       "      <td>Good</td>\n",
       "      <td>J</td>\n",
       "      <td>SI2</td>\n",
       "      <td>58.0</td>\n",
       "      <td>4.34</td>\n",
       "      <td>4.35</td>\n",
       "      <td>2.75</td>\n",
       "      <td>167.5</td>\n",
       "    </tr>\n",
       "    <tr>\n",
       "      <th>...</th>\n",
       "      <td>...</td>\n",
       "      <td>...</td>\n",
       "      <td>...</td>\n",
       "      <td>...</td>\n",
       "      <td>...</td>\n",
       "      <td>...</td>\n",
       "      <td>...</td>\n",
       "      <td>...</td>\n",
       "      <td>...</td>\n",
       "    </tr>\n",
       "    <tr>\n",
       "      <th>53935</th>\n",
       "      <td>0.72</td>\n",
       "      <td>Ideal</td>\n",
       "      <td>D</td>\n",
       "      <td>SI1</td>\n",
       "      <td>57.0</td>\n",
       "      <td>5.75</td>\n",
       "      <td>5.76</td>\n",
       "      <td>3.50</td>\n",
       "      <td>1378.5</td>\n",
       "    </tr>\n",
       "    <tr>\n",
       "      <th>53936</th>\n",
       "      <td>0.72</td>\n",
       "      <td>Good</td>\n",
       "      <td>D</td>\n",
       "      <td>SI1</td>\n",
       "      <td>55.0</td>\n",
       "      <td>5.69</td>\n",
       "      <td>5.75</td>\n",
       "      <td>3.61</td>\n",
       "      <td>1378.5</td>\n",
       "    </tr>\n",
       "    <tr>\n",
       "      <th>53937</th>\n",
       "      <td>0.70</td>\n",
       "      <td>Very Good</td>\n",
       "      <td>D</td>\n",
       "      <td>SI1</td>\n",
       "      <td>60.0</td>\n",
       "      <td>5.66</td>\n",
       "      <td>5.68</td>\n",
       "      <td>3.56</td>\n",
       "      <td>1378.5</td>\n",
       "    </tr>\n",
       "    <tr>\n",
       "      <th>53938</th>\n",
       "      <td>0.86</td>\n",
       "      <td>Premium</td>\n",
       "      <td>H</td>\n",
       "      <td>SI2</td>\n",
       "      <td>58.0</td>\n",
       "      <td>6.15</td>\n",
       "      <td>6.12</td>\n",
       "      <td>3.74</td>\n",
       "      <td>1378.5</td>\n",
       "    </tr>\n",
       "    <tr>\n",
       "      <th>53939</th>\n",
       "      <td>0.75</td>\n",
       "      <td>Ideal</td>\n",
       "      <td>D</td>\n",
       "      <td>SI2</td>\n",
       "      <td>55.0</td>\n",
       "      <td>5.83</td>\n",
       "      <td>5.87</td>\n",
       "      <td>3.64</td>\n",
       "      <td>1378.5</td>\n",
       "    </tr>\n",
       "  </tbody>\n",
       "</table>\n",
       "<p>53940 rows × 9 columns</p>\n",
       "</div>"
      ],
      "text/plain": [
       "       carat        cut color clarity  table     x     y     z  price_new\n",
       "0       0.23      Ideal     E     SI2   55.0  3.95  3.98  2.43      163.0\n",
       "1       0.21    Premium     E     SI1   61.0  3.89  3.84  2.31      163.0\n",
       "2       0.23       Good     E     VS1   65.0  4.05  4.07  2.31      163.5\n",
       "3       0.29    Premium     I     VS2   58.0  4.20  4.23  2.63      167.0\n",
       "4       0.31       Good     J     SI2   58.0  4.34  4.35  2.75      167.5\n",
       "...      ...        ...   ...     ...    ...   ...   ...   ...        ...\n",
       "53935   0.72      Ideal     D     SI1   57.0  5.75  5.76  3.50     1378.5\n",
       "53936   0.72       Good     D     SI1   55.0  5.69  5.75  3.61     1378.5\n",
       "53937   0.70  Very Good     D     SI1   60.0  5.66  5.68  3.56     1378.5\n",
       "53938   0.86    Premium     H     SI2   58.0  6.15  6.12  3.74     1378.5\n",
       "53939   0.75      Ideal     D     SI2   55.0  5.83  5.87  3.64     1378.5\n",
       "\n",
       "[53940 rows x 9 columns]"
      ]
     },
     "execution_count": 65,
     "metadata": {},
     "output_type": "execute_result"
    }
   ],
   "source": [
    "data"
   ]
  },
  {
   "cell_type": "code",
   "execution_count": 66,
   "id": "37087ad4",
   "metadata": {},
   "outputs": [
    {
     "data": {
      "text/html": [
       "<div>\n",
       "<style scoped>\n",
       "    .dataframe tbody tr th:only-of-type {\n",
       "        vertical-align: middle;\n",
       "    }\n",
       "\n",
       "    .dataframe tbody tr th {\n",
       "        vertical-align: top;\n",
       "    }\n",
       "\n",
       "    .dataframe thead th {\n",
       "        text-align: right;\n",
       "    }\n",
       "</style>\n",
       "<table border=\"1\" class=\"dataframe\">\n",
       "  <thead>\n",
       "    <tr style=\"text-align: right;\">\n",
       "      <th></th>\n",
       "      <th>carat</th>\n",
       "      <th>cut</th>\n",
       "      <th>color</th>\n",
       "      <th>clarity</th>\n",
       "      <th>table</th>\n",
       "      <th>x</th>\n",
       "      <th>y</th>\n",
       "      <th>z</th>\n",
       "      <th>price_new</th>\n",
       "    </tr>\n",
       "  </thead>\n",
       "  <tbody>\n",
       "    <tr>\n",
       "      <th>0</th>\n",
       "      <td>0.23</td>\n",
       "      <td>Ideal</td>\n",
       "      <td>E</td>\n",
       "      <td>SI2</td>\n",
       "      <td>55.0</td>\n",
       "      <td>3.95</td>\n",
       "      <td>3.98</td>\n",
       "      <td>2.43</td>\n",
       "      <td>163.0</td>\n",
       "    </tr>\n",
       "    <tr>\n",
       "      <th>1</th>\n",
       "      <td>0.21</td>\n",
       "      <td>Premium</td>\n",
       "      <td>E</td>\n",
       "      <td>SI1</td>\n",
       "      <td>61.0</td>\n",
       "      <td>3.89</td>\n",
       "      <td>3.84</td>\n",
       "      <td>2.31</td>\n",
       "      <td>163.0</td>\n",
       "    </tr>\n",
       "    <tr>\n",
       "      <th>2</th>\n",
       "      <td>0.23</td>\n",
       "      <td>Good</td>\n",
       "      <td>E</td>\n",
       "      <td>VS1</td>\n",
       "      <td>65.0</td>\n",
       "      <td>4.05</td>\n",
       "      <td>4.07</td>\n",
       "      <td>2.31</td>\n",
       "      <td>163.5</td>\n",
       "    </tr>\n",
       "    <tr>\n",
       "      <th>3</th>\n",
       "      <td>0.29</td>\n",
       "      <td>Premium</td>\n",
       "      <td>I</td>\n",
       "      <td>VS2</td>\n",
       "      <td>58.0</td>\n",
       "      <td>4.20</td>\n",
       "      <td>4.23</td>\n",
       "      <td>2.63</td>\n",
       "      <td>167.0</td>\n",
       "    </tr>\n",
       "    <tr>\n",
       "      <th>4</th>\n",
       "      <td>0.31</td>\n",
       "      <td>Good</td>\n",
       "      <td>J</td>\n",
       "      <td>SI2</td>\n",
       "      <td>58.0</td>\n",
       "      <td>4.34</td>\n",
       "      <td>4.35</td>\n",
       "      <td>2.75</td>\n",
       "      <td>167.5</td>\n",
       "    </tr>\n",
       "  </tbody>\n",
       "</table>\n",
       "</div>"
      ],
      "text/plain": [
       "   carat      cut color clarity  table     x     y     z  price_new\n",
       "0   0.23    Ideal     E     SI2   55.0  3.95  3.98  2.43      163.0\n",
       "1   0.21  Premium     E     SI1   61.0  3.89  3.84  2.31      163.0\n",
       "2   0.23     Good     E     VS1   65.0  4.05  4.07  2.31      163.5\n",
       "3   0.29  Premium     I     VS2   58.0  4.20  4.23  2.63      167.0\n",
       "4   0.31     Good     J     SI2   58.0  4.34  4.35  2.75      167.5"
      ]
     },
     "execution_count": 66,
     "metadata": {},
     "output_type": "execute_result"
    }
   ],
   "source": [
    "data.head()"
   ]
  },
  {
   "cell_type": "code",
   "execution_count": 67,
   "id": "cd80db51",
   "metadata": {},
   "outputs": [
    {
     "data": {
      "text/html": [
       "<div>\n",
       "<style scoped>\n",
       "    .dataframe tbody tr th:only-of-type {\n",
       "        vertical-align: middle;\n",
       "    }\n",
       "\n",
       "    .dataframe tbody tr th {\n",
       "        vertical-align: top;\n",
       "    }\n",
       "\n",
       "    .dataframe thead th {\n",
       "        text-align: right;\n",
       "    }\n",
       "</style>\n",
       "<table border=\"1\" class=\"dataframe\">\n",
       "  <thead>\n",
       "    <tr style=\"text-align: right;\">\n",
       "      <th></th>\n",
       "      <th>carat</th>\n",
       "      <th>table</th>\n",
       "      <th>x</th>\n",
       "      <th>y</th>\n",
       "      <th>z</th>\n",
       "      <th>price_new</th>\n",
       "    </tr>\n",
       "  </thead>\n",
       "  <tbody>\n",
       "    <tr>\n",
       "      <th>count</th>\n",
       "      <td>53841.000000</td>\n",
       "      <td>53877.000000</td>\n",
       "      <td>53940.000000</td>\n",
       "      <td>53940.000000</td>\n",
       "      <td>53940.000000</td>\n",
       "      <td>53940.000000</td>\n",
       "    </tr>\n",
       "    <tr>\n",
       "      <th>mean</th>\n",
       "      <td>0.798120</td>\n",
       "      <td>57.457719</td>\n",
       "      <td>5.731157</td>\n",
       "      <td>5.734526</td>\n",
       "      <td>3.539635</td>\n",
       "      <td>1966.399861</td>\n",
       "    </tr>\n",
       "    <tr>\n",
       "      <th>std</th>\n",
       "      <td>0.474428</td>\n",
       "      <td>2.235742</td>\n",
       "      <td>1.121761</td>\n",
       "      <td>1.142135</td>\n",
       "      <td>0.703869</td>\n",
       "      <td>1994.719869</td>\n",
       "    </tr>\n",
       "    <tr>\n",
       "      <th>min</th>\n",
       "      <td>0.200000</td>\n",
       "      <td>43.000000</td>\n",
       "      <td>0.000000</td>\n",
       "      <td>0.000000</td>\n",
       "      <td>0.000000</td>\n",
       "      <td>163.000000</td>\n",
       "    </tr>\n",
       "    <tr>\n",
       "      <th>25%</th>\n",
       "      <td>0.400000</td>\n",
       "      <td>56.000000</td>\n",
       "      <td>4.710000</td>\n",
       "      <td>4.720000</td>\n",
       "      <td>2.910000</td>\n",
       "      <td>475.000000</td>\n",
       "    </tr>\n",
       "    <tr>\n",
       "      <th>50%</th>\n",
       "      <td>0.700000</td>\n",
       "      <td>57.000000</td>\n",
       "      <td>5.700000</td>\n",
       "      <td>5.710000</td>\n",
       "      <td>3.530000</td>\n",
       "      <td>1200.500000</td>\n",
       "    </tr>\n",
       "    <tr>\n",
       "      <th>75%</th>\n",
       "      <td>1.040000</td>\n",
       "      <td>59.000000</td>\n",
       "      <td>6.540000</td>\n",
       "      <td>6.540000</td>\n",
       "      <td>4.040000</td>\n",
       "      <td>2662.125000</td>\n",
       "    </tr>\n",
       "    <tr>\n",
       "      <th>max</th>\n",
       "      <td>5.010000</td>\n",
       "      <td>95.000000</td>\n",
       "      <td>10.740000</td>\n",
       "      <td>58.900000</td>\n",
       "      <td>31.800000</td>\n",
       "      <td>9411.500000</td>\n",
       "    </tr>\n",
       "  </tbody>\n",
       "</table>\n",
       "</div>"
      ],
      "text/plain": [
       "              carat         table             x             y             z  \\\n",
       "count  53841.000000  53877.000000  53940.000000  53940.000000  53940.000000   \n",
       "mean       0.798120     57.457719      5.731157      5.734526      3.539635   \n",
       "std        0.474428      2.235742      1.121761      1.142135      0.703869   \n",
       "min        0.200000     43.000000      0.000000      0.000000      0.000000   \n",
       "25%        0.400000     56.000000      4.710000      4.720000      2.910000   \n",
       "50%        0.700000     57.000000      5.700000      5.710000      3.530000   \n",
       "75%        1.040000     59.000000      6.540000      6.540000      4.040000   \n",
       "max        5.010000     95.000000     10.740000     58.900000     31.800000   \n",
       "\n",
       "          price_new  \n",
       "count  53940.000000  \n",
       "mean    1966.399861  \n",
       "std     1994.719869  \n",
       "min      163.000000  \n",
       "25%      475.000000  \n",
       "50%     1200.500000  \n",
       "75%     2662.125000  \n",
       "max     9411.500000  "
      ]
     },
     "execution_count": 67,
     "metadata": {},
     "output_type": "execute_result"
    }
   ],
   "source": [
    "data.describe()"
   ]
  },
  {
   "cell_type": "code",
   "execution_count": 68,
   "id": "fe8dd5c8",
   "metadata": {},
   "outputs": [
    {
     "data": {
      "text/html": [
       "<div>\n",
       "<style scoped>\n",
       "    .dataframe tbody tr th:only-of-type {\n",
       "        vertical-align: middle;\n",
       "    }\n",
       "\n",
       "    .dataframe tbody tr th {\n",
       "        vertical-align: top;\n",
       "    }\n",
       "\n",
       "    .dataframe thead th {\n",
       "        text-align: right;\n",
       "    }\n",
       "</style>\n",
       "<table border=\"1\" class=\"dataframe\">\n",
       "  <thead>\n",
       "    <tr style=\"text-align: right;\">\n",
       "      <th></th>\n",
       "      <th>carat</th>\n",
       "      <th>cut</th>\n",
       "      <th>color</th>\n",
       "      <th>clarity</th>\n",
       "      <th>table</th>\n",
       "      <th>x</th>\n",
       "      <th>y</th>\n",
       "      <th>z</th>\n",
       "      <th>price_new</th>\n",
       "    </tr>\n",
       "  </thead>\n",
       "  <tbody>\n",
       "    <tr>\n",
       "      <th>53935</th>\n",
       "      <td>0.72</td>\n",
       "      <td>Ideal</td>\n",
       "      <td>D</td>\n",
       "      <td>SI1</td>\n",
       "      <td>57.0</td>\n",
       "      <td>5.75</td>\n",
       "      <td>5.76</td>\n",
       "      <td>3.50</td>\n",
       "      <td>1378.5</td>\n",
       "    </tr>\n",
       "    <tr>\n",
       "      <th>53936</th>\n",
       "      <td>0.72</td>\n",
       "      <td>Good</td>\n",
       "      <td>D</td>\n",
       "      <td>SI1</td>\n",
       "      <td>55.0</td>\n",
       "      <td>5.69</td>\n",
       "      <td>5.75</td>\n",
       "      <td>3.61</td>\n",
       "      <td>1378.5</td>\n",
       "    </tr>\n",
       "    <tr>\n",
       "      <th>53937</th>\n",
       "      <td>0.70</td>\n",
       "      <td>Very Good</td>\n",
       "      <td>D</td>\n",
       "      <td>SI1</td>\n",
       "      <td>60.0</td>\n",
       "      <td>5.66</td>\n",
       "      <td>5.68</td>\n",
       "      <td>3.56</td>\n",
       "      <td>1378.5</td>\n",
       "    </tr>\n",
       "    <tr>\n",
       "      <th>53938</th>\n",
       "      <td>0.86</td>\n",
       "      <td>Premium</td>\n",
       "      <td>H</td>\n",
       "      <td>SI2</td>\n",
       "      <td>58.0</td>\n",
       "      <td>6.15</td>\n",
       "      <td>6.12</td>\n",
       "      <td>3.74</td>\n",
       "      <td>1378.5</td>\n",
       "    </tr>\n",
       "    <tr>\n",
       "      <th>53939</th>\n",
       "      <td>0.75</td>\n",
       "      <td>Ideal</td>\n",
       "      <td>D</td>\n",
       "      <td>SI2</td>\n",
       "      <td>55.0</td>\n",
       "      <td>5.83</td>\n",
       "      <td>5.87</td>\n",
       "      <td>3.64</td>\n",
       "      <td>1378.5</td>\n",
       "    </tr>\n",
       "  </tbody>\n",
       "</table>\n",
       "</div>"
      ],
      "text/plain": [
       "       carat        cut color clarity  table     x     y     z  price_new\n",
       "53935   0.72      Ideal     D     SI1   57.0  5.75  5.76  3.50     1378.5\n",
       "53936   0.72       Good     D     SI1   55.0  5.69  5.75  3.61     1378.5\n",
       "53937   0.70  Very Good     D     SI1   60.0  5.66  5.68  3.56     1378.5\n",
       "53938   0.86    Premium     H     SI2   58.0  6.15  6.12  3.74     1378.5\n",
       "53939   0.75      Ideal     D     SI2   55.0  5.83  5.87  3.64     1378.5"
      ]
     },
     "execution_count": 68,
     "metadata": {},
     "output_type": "execute_result"
    }
   ],
   "source": [
    "data.tail()"
   ]
  },
  {
   "cell_type": "code",
   "execution_count": 69,
   "id": "8c2215b5",
   "metadata": {},
   "outputs": [
    {
     "data": {
      "text/plain": [
       "(53940, 9)"
      ]
     },
     "execution_count": 69,
     "metadata": {},
     "output_type": "execute_result"
    }
   ],
   "source": [
    "data.shape"
   ]
  },
  {
   "cell_type": "code",
   "execution_count": 70,
   "id": "dadd4947",
   "metadata": {},
   "outputs": [
    {
     "name": "stdout",
     "output_type": "stream",
     "text": [
      "<class 'pandas.core.frame.DataFrame'>\n",
      "RangeIndex: 53940 entries, 0 to 53939\n",
      "Data columns (total 9 columns):\n",
      " #   Column     Non-Null Count  Dtype  \n",
      "---  ------     --------------  -----  \n",
      " 0   carat      53841 non-null  float64\n",
      " 1   cut        53940 non-null  object \n",
      " 2   color      53884 non-null  object \n",
      " 3   clarity    53940 non-null  object \n",
      " 4   table      53877 non-null  float64\n",
      " 5   x          53940 non-null  float64\n",
      " 6   y          53940 non-null  float64\n",
      " 7   z          53940 non-null  float64\n",
      " 8   price_new  53940 non-null  float64\n",
      "dtypes: float64(6), object(3)\n",
      "memory usage: 3.7+ MB\n"
     ]
    }
   ],
   "source": [
    "data.info()"
   ]
  },
  {
   "cell_type": "code",
   "execution_count": 71,
   "id": "ad2ac9d7",
   "metadata": {},
   "outputs": [
    {
     "data": {
      "text/plain": [
       "carat        99\n",
       "cut           0\n",
       "color        56\n",
       "clarity       0\n",
       "table        63\n",
       "x             0\n",
       "y             0\n",
       "z             0\n",
       "price_new     0\n",
       "dtype: int64"
      ]
     },
     "execution_count": 71,
     "metadata": {},
     "output_type": "execute_result"
    }
   ],
   "source": [
    "data.isna().sum()"
   ]
  },
  {
   "cell_type": "markdown",
   "id": "70e5876f",
   "metadata": {},
   "source": [
    "# filling missing values"
   ]
  },
  {
   "cell_type": "code",
   "execution_count": 72,
   "id": "933cf9f8",
   "metadata": {},
   "outputs": [
    {
     "data": {
      "text/plain": [
       "carat        float64\n",
       "cut           object\n",
       "color         object\n",
       "clarity       object\n",
       "table        float64\n",
       "x            float64\n",
       "y            float64\n",
       "z            float64\n",
       "price_new    float64\n",
       "dtype: object"
      ]
     },
     "execution_count": 72,
     "metadata": {},
     "output_type": "execute_result"
    }
   ],
   "source": [
    "data.dtypes\n"
   ]
  },
  {
   "cell_type": "code",
   "execution_count": 73,
   "id": "2bacdf81",
   "metadata": {},
   "outputs": [
    {
     "data": {
      "text/plain": [
       "<function matplotlib.pyplot.show(close=None, block=None)>"
      ]
     },
     "execution_count": 73,
     "metadata": {},
     "output_type": "execute_result"
    },
    {
     "data": {
      "image/png": "[encoded data removed]",
      "text/plain": [
       "<Figure size 2000x1500 with 6 Axes>"
      ]
     },
     "metadata": {},
     "output_type": "display_data"
    }
   ],
   "source": [
    "fraqgraph = data.select_dtypes(include=['float'])\n",
    "fraqgraph.hist(figsize=(20,15))\n",
    "plt.show"
   ]
  },
  {
   "cell_type": "code",
   "execution_count": 74,
   "id": "f302dca9",
   "metadata": {},
   "outputs": [
    {
     "data": {
      "text/plain": [
       "Index(['carat', 'cut', 'color', 'clarity', 'table', 'x', 'y', 'z',\n",
       "       'price_new'],\n",
       "      dtype='object')"
      ]
     },
     "execution_count": 74,
     "metadata": {},
     "output_type": "execute_result"
    }
   ],
   "source": [
    "data.columns"
   ]
  },
  {
   "cell_type": "code",
   "execution_count": 75,
   "id": "943a7d50",
   "metadata": {},
   "outputs": [],
   "source": [
    "data['carat'] = data['carat'].fillna(data['carat'].median())\n",
    "data['color'].fillna(\"G\", inplace=True)"
   ]
  },
  {
   "cell_type": "code",
   "execution_count": 76,
   "id": "f49355e0",
   "metadata": {},
   "outputs": [
    {
     "data": {
      "text/plain": [
       "carat         0\n",
       "cut           0\n",
       "color         0\n",
       "clarity       0\n",
       "table        63\n",
       "x             0\n",
       "y             0\n",
       "z             0\n",
       "price_new     0\n",
       "dtype: int64"
      ]
     },
     "execution_count": 76,
     "metadata": {},
     "output_type": "execute_result"
    }
   ],
   "source": [
    "data.isna().sum()"
   ]
  },
  {
   "cell_type": "code",
   "execution_count": 77,
   "id": "cf36dd68",
   "metadata": {},
   "outputs": [],
   "source": [
    "for i in ['table', 'x', 'y', 'z','price_new']:\n",
    "    data[i] = data[i].fillna(data[i].median())"
   ]
  },
  {
   "cell_type": "code",
   "execution_count": 78,
   "id": "c00d3797",
   "metadata": {},
   "outputs": [
    {
     "data": {
      "text/plain": [
       "carat        0\n",
       "cut          0\n",
       "color        0\n",
       "clarity      0\n",
       "table        0\n",
       "x            0\n",
       "y            0\n",
       "z            0\n",
       "price_new    0\n",
       "dtype: int64"
      ]
     },
     "execution_count": 78,
     "metadata": {},
     "output_type": "execute_result"
    }
   ],
   "source": [
    "data.isna().sum()"
   ]
  },
  {
   "cell_type": "code",
   "execution_count": 79,
   "id": "32eab4ae",
   "metadata": {},
   "outputs": [
    {
     "data": {
      "text/plain": [
       "price_new\n",
       "163.0     0.22\n",
       "163.5     0.23\n",
       "167.0     0.29\n",
       "167.5     0.31\n",
       "168.0     0.24\n",
       "          ... \n",
       "9401.5    2.00\n",
       "9402.0    2.07\n",
       "9403.0    1.51\n",
       "9409.0    2.00\n",
       "9411.5    2.29\n",
       "Name: carat, Length: 11602, dtype: float64"
      ]
     },
     "execution_count": 79,
     "metadata": {},
     "output_type": "execute_result"
    }
   ],
   "source": [
    "data.groupby('price_new')['carat'].mean()"
   ]
  },
  {
   "cell_type": "code",
   "execution_count": 80,
   "id": "348b180c",
   "metadata": {},
   "outputs": [
    {
     "data": {
      "text/plain": [
       "7"
      ]
     },
     "execution_count": 80,
     "metadata": {},
     "output_type": "execute_result"
    }
   ],
   "source": [
    "data.color.nunique()"
   ]
  },
  {
   "cell_type": "markdown",
   "id": "a24acc19",
   "metadata": {},
   "source": [
    "# 2.Outlier Detection"
   ]
  },
  {
   "cell_type": "code",
   "execution_count": 81,
   "id": "397d3953",
   "metadata": {},
   "outputs": [
    {
     "data": {
      "text/plain": [
       "Text(0.5, 1.0, 'Box plot of z')"
      ]
     },
     "execution_count": 81,
     "metadata": {},
     "output_type": "execute_result"
    },
    {
     "data": {
      "image/png": "[encoded data removed]",
      "text/plain": [
       "<Figure size 640x480 with 1 Axes>"
      ]
     },
     "metadata": {},
     "output_type": "display_data"
    }
   ],
   "source": [
    "plt.boxplot(data['z'])\n",
    "plt.title('Box plot of z')"
   ]
  },
  {
   "cell_type": "code",
   "execution_count": 82,
   "id": "4c55b59b",
   "metadata": {},
   "outputs": [
    {
     "name": "stderr",
     "output_type": "stream",
     "text": [
      "C:\\Users\\yoojin\\AppData\\Local\\Temp\\ipykernel_14224\\1571507535.py:1: DeprecationWarning: the `interpolation=` argument to percentile was renamed to `method=`, which has additional options.\n",
      "Users of the modes 'nearest', 'lower', 'higher', or 'midpoint' are encouraged to review the method they used. (Deprecated NumPy 1.22)\n",
      "  Q1=np.percentile(data['z'],25,interpolation='midpoint')\n",
      "C:\\Users\\yoojin\\AppData\\Local\\Temp\\ipykernel_14224\\1571507535.py:2: DeprecationWarning: the `interpolation=` argument to percentile was renamed to `method=`, which has additional options.\n",
      "Users of the modes 'nearest', 'lower', 'higher', or 'midpoint' are encouraged to review the method they used. (Deprecated NumPy 1.22)\n",
      "  Q2=np.percentile(data['z'],50,interpolation='midpoint')\n",
      "C:\\Users\\yoojin\\AppData\\Local\\Temp\\ipykernel_14224\\1571507535.py:3: DeprecationWarning: the `interpolation=` argument to percentile was renamed to `method=`, which has additional options.\n",
      "Users of the modes 'nearest', 'lower', 'higher', or 'midpoint' are encouraged to review the method they used. (Deprecated NumPy 1.22)\n",
      "  Q3=np.percentile(data['z'],75,interpolation='midpoint')\n"
     ]
    }
   ],
   "source": [
    "Q1=np.percentile(data['z'],25,interpolation='midpoint')\n",
    "Q2=np.percentile(data['z'],50,interpolation='midpoint')\n",
    "Q3=np.percentile(data['z'],75,interpolation='midpoint')"
   ]
  },
  {
   "cell_type": "code",
   "execution_count": 83,
   "id": "0384d76a",
   "metadata": {},
   "outputs": [
    {
     "name": "stdout",
     "output_type": "stream",
     "text": [
      "2.91\n",
      "3.53\n",
      "4.04\n"
     ]
    }
   ],
   "source": [
    "print(Q1)\n",
    "print(Q2)\n",
    "print(Q3)"
   ]
  },
  {
   "cell_type": "code",
   "execution_count": 84,
   "id": "07d0ca22",
   "metadata": {},
   "outputs": [
    {
     "data": {
      "text/plain": [
       "3.53"
      ]
     },
     "execution_count": 84,
     "metadata": {},
     "output_type": "execute_result"
    }
   ],
   "source": [
    "data['z'].median()"
   ]
  },
  {
   "cell_type": "code",
   "execution_count": 85,
   "id": "289329fc",
   "metadata": {},
   "outputs": [],
   "source": [
    "IQR=Q3-Q1"
   ]
  },
  {
   "cell_type": "code",
   "execution_count": 86,
   "id": "f0b7f42f",
   "metadata": {},
   "outputs": [],
   "source": [
    "low_lim=Q1-1.5*IQR\n",
    "up_lim=Q3+1.5*IQR"
   ]
  },
  {
   "cell_type": "code",
   "execution_count": 87,
   "id": "827f722b",
   "metadata": {},
   "outputs": [
    {
     "name": "stdout",
     "output_type": "stream",
     "text": [
      "1.2150000000000003\n",
      "5.734999999999999\n"
     ]
    }
   ],
   "source": [
    "print(low_lim)\n",
    "print(up_lim)"
   ]
  },
  {
   "cell_type": "code",
   "execution_count": 88,
   "id": "87f9e259",
   "metadata": {},
   "outputs": [],
   "source": [
    "outlier=[]\n",
    "for x in data['z']:\n",
    "    if((x>up_lim)or(x<low_lim)):\n",
    "        outlier.append(x)"
   ]
  },
  {
   "cell_type": "code",
   "execution_count": 89,
   "id": "501ba46f",
   "metadata": {},
   "outputs": [
    {
     "data": {
      "text/plain": [
       "[0.0,\n",
       " 0.0,\n",
       " 1.07,\n",
       " 0.0,\n",
       " 5.77,\n",
       " 5.76,\n",
       " 5.97,\n",
       " 5.98,\n",
       " 5.91,\n",
       " 5.79,\n",
       " 6.38,\n",
       " 8.06,\n",
       " 5.85,\n",
       " 5.92,\n",
       " 6.03,\n",
       " 0.0,\n",
       " 6.17,\n",
       " 6.24,\n",
       " 5.75,\n",
       " 6.16,\n",
       " 0.0,\n",
       " 6.27,\n",
       " 6.31,\n",
       " 6.13,\n",
       " 5.86,\n",
       " 6.43,\n",
       " 6.98,\n",
       " 0.0,\n",
       " 5.9,\n",
       " 5.9,\n",
       " 5.77,\n",
       " 5.77,\n",
       " 6.72,\n",
       " 6.03,\n",
       " 31.8,\n",
       " 0.0,\n",
       " 0.0]"
      ]
     },
     "execution_count": 89,
     "metadata": {},
     "output_type": "execute_result"
    }
   ],
   "source": [
    "outlier\n"
   ]
  },
  {
   "cell_type": "code",
   "execution_count": 90,
   "id": "0f25f0e3",
   "metadata": {},
   "outputs": [
    {
     "data": {
      "text/plain": [
       "Int64Index([11182, 11963, 15951, 24520, 26243, 27429, 49556, 49557], dtype='int64')"
      ]
     },
     "execution_count": 90,
     "metadata": {},
     "output_type": "execute_result"
    }
   ],
   "source": [
    "data[(data['x']==0) | (data['y']==0) | (data['z']==0)].index"
   ]
  },
  {
   "cell_type": "code",
   "execution_count": 91,
   "id": "fb81b3c1",
   "metadata": {},
   "outputs": [
    {
     "data": {
      "text/plain": [
       "Int64Index([16283, 17196, 19346, 21758, 22540, 23539, 23644, 24067, 24131,\n",
       "            24297, 24328, 25998, 25999, 26100, 26194, 26431, 26444, 26534,\n",
       "            26744, 27130, 27415, 27515, 27516, 27517, 27518, 27630, 27679,\n",
       "            48410],\n",
       "           dtype='int64')"
      ]
     },
     "execution_count": 91,
     "metadata": {},
     "output_type": "execute_result"
    }
   ],
   "source": [
    "ind1 = data['z']>up_lim\n",
    "data.loc[ind1].index"
   ]
  },
  {
   "cell_type": "code",
   "execution_count": 92,
   "id": "43346f1d",
   "metadata": {},
   "outputs": [],
   "source": [
    "data.drop([16283, 17196, 19346, 21758, 22540, 23539, 23644, 24067, 24131,\n",
    "            24297, 24328, 25998, 25999, 26100, 26194, 26431, 26444, 26534,\n",
    "            26744, 27130, 27415, 27515, 27516, 27517, 27518, 27630, 27679,\n",
    "            48410], inplace=True)"
   ]
  },
  {
   "cell_type": "code",
   "execution_count": 93,
   "id": "7d4738c0",
   "metadata": {},
   "outputs": [
    {
     "data": {
      "text/plain": [
       "Text(0.5, 1.0, 'Box plot of z')"
      ]
     },
     "execution_count": 93,
     "metadata": {},
     "output_type": "execute_result"
    },
    {
     "data": {
      "image/png": "[encoded data removed]",
      "text/plain": [
       "<Figure size 640x480 with 1 Axes>"
      ]
     },
     "metadata": {},
     "output_type": "display_data"
    }
   ],
   "source": [
    "plt.boxplot(data['z'])\n",
    "plt.title('Box plot of z')"
   ]
  },
  {
   "cell_type": "code",
   "execution_count": 94,
   "id": "f089d4c0",
   "metadata": {},
   "outputs": [
    {
     "data": {
      "text/plain": [
       "Text(0.5, 1.0, 'Box plot of x')"
      ]
     },
     "execution_count": 94,
     "metadata": {},
     "output_type": "execute_result"
    },
    {
     "data": {
      "image/png": "[encoded data removed]",
      "text/plain": [
       "<Figure size 640x480 with 1 Axes>"
      ]
     },
     "metadata": {},
     "output_type": "display_data"
    }
   ],
   "source": [
    "plt.boxplot(data['x'])\n",
    "plt.title('Box plot of x')"
   ]
  },
  {
   "cell_type": "code",
   "execution_count": 95,
   "id": "eb6f7085",
   "metadata": {},
   "outputs": [
    {
     "name": "stderr",
     "output_type": "stream",
     "text": [
      "C:\\Users\\soumy\\AppData\\Local\\Temp\\ipykernel_14224\\1544870890.py:1: DeprecationWarning: the `interpolation=` argument to percentile was renamed to `method=`, which has additional options.\n",
      "Users of the modes 'nearest', 'lower', 'higher', or 'midpoint' are encouraged to review the method they used. (Deprecated NumPy 1.22)\n",
      "  Q1=np.percentile(data['x'],25,interpolation='midpoint')\n",
      "C:\\Users\\soumy\\AppData\\Local\\Temp\\ipykernel_14224\\1544870890.py:2: DeprecationWarning: the `interpolation=` argument to percentile was renamed to `method=`, which has additional options.\n",
      "Users of the modes 'nearest', 'lower', 'higher', or 'midpoint' are encouraged to review the method they used. (Deprecated NumPy 1.22)\n",
      "  Q2=np.percentile(data['x'],50,interpolation='midpoint')\n",
      "C:\\Users\\soumy\\AppData\\Local\\Temp\\ipykernel_14224\\1544870890.py:3: DeprecationWarning: the `interpolation=` argument to percentile was renamed to `method=`, which has additional options.\n",
      "Users of the modes 'nearest', 'lower', 'higher', or 'midpoint' are encouraged to review the method they used. (Deprecated NumPy 1.22)\n",
      "  Q3=np.percentile(data['x'],75,interpolation='midpoint')\n"
     ]
    }
   ],
   "source": [
    "Q1=np.percentile(data['x'],25,interpolation='midpoint')\n",
    "Q2=np.percentile(data['x'],50,interpolation='midpoint')\n",
    "Q3=np.percentile(data['x'],75,interpolation='midpoint')"
   ]
  },
  {
   "cell_type": "code",
   "execution_count": 96,
   "id": "23ff24ba",
   "metadata": {},
   "outputs": [
    {
     "name": "stdout",
     "output_type": "stream",
     "text": [
      "4.71\n",
      "5.7\n",
      "6.54\n"
     ]
    }
   ],
   "source": [
    "print(Q1)\n",
    "print(Q2)\n",
    "print(Q3)"
   ]
  },
  {
   "cell_type": "code",
   "execution_count": 97,
   "id": "4b4226f1",
   "metadata": {},
   "outputs": [
    {
     "data": {
      "text/plain": [
       "5.7"
      ]
     },
     "execution_count": 97,
     "metadata": {},
     "output_type": "execute_result"
    }
   ],
   "source": [
    "data['x'].median()"
   ]
  },
  {
   "cell_type": "code",
   "execution_count": 98,
   "id": "5dbafb39",
   "metadata": {},
   "outputs": [],
   "source": [
    "IQR=Q3-Q1"
   ]
  },
  {
   "cell_type": "code",
   "execution_count": 99,
   "id": "f4e7e4b0",
   "metadata": {},
   "outputs": [],
   "source": [
    "low_lim=Q1-1.5*IQR\n",
    "up_lim=Q3+1.5*IQR"
   ]
  },
  {
   "cell_type": "code",
   "execution_count": 100,
   "id": "ad2b008d",
   "metadata": {},
   "outputs": [
    {
     "name": "stdout",
     "output_type": "stream",
     "text": [
      "1.9649999999999999\n",
      "9.285\n"
     ]
    }
   ],
   "source": [
    "print(low_lim)\n",
    "print(up_lim)"
   ]
  },
  {
   "cell_type": "code",
   "execution_count": 101,
   "id": "2cf0f175",
   "metadata": {},
   "outputs": [],
   "source": [
    "outlier=[]\n",
    "for x in data['x']:\n",
    "    if((x>up_lim)or(x<low_lim)):\n",
    "        outlier.append(x)"
   ]
  },
  {
   "cell_type": "code",
   "execution_count": 102,
   "id": "6bb50ec8",
   "metadata": {},
   "outputs": [
    {
     "data": {
      "text/plain": [
       "[0.0,\n",
       " 0.0,\n",
       " 0.0,\n",
       " 9.54,\n",
       " 9.38,\n",
       " 0.0,\n",
       " 9.42,\n",
       " 9.44,\n",
       " 9.32,\n",
       " 0.0,\n",
       " 9.3,\n",
       " 0.0,\n",
       " 9.36,\n",
       " 9.51,\n",
       " 9.44,\n",
       " 9.35,\n",
       " 9.41,\n",
       " 0.0,\n",
       " 0.0]"
      ]
     },
     "execution_count": 102,
     "metadata": {},
     "output_type": "execute_result"
    }
   ],
   "source": [
    "outlier"
   ]
  },
  {
   "cell_type": "code",
   "execution_count": 103,
   "id": "7766f29c",
   "metadata": {},
   "outputs": [
    {
     "data": {
      "text/plain": [
       "Int64Index([22741, 22831, 24816, 25460, 25850, 26932, 27514, 27638, 27649,\n",
       "            27684, 27685],\n",
       "           dtype='int64')"
      ]
     },
     "execution_count": 103,
     "metadata": {},
     "output_type": "execute_result"
    }
   ],
   "source": [
    "ind1 = data['x']>up_lim\n",
    "data.loc[ind1].index"
   ]
  },
  {
   "cell_type": "code",
   "execution_count": 104,
   "id": "90ea88cc",
   "metadata": {},
   "outputs": [],
   "source": [
    "data.drop([ 22741, 22831, 24816, 25460, 25850, 26932, 27514, 27638, 27649,\n",
    "            27684, 27685], inplace=True)"
   ]
  },
  {
   "cell_type": "code",
   "execution_count": 105,
   "id": "3d0c37f3",
   "metadata": {},
   "outputs": [
    {
     "data": {
      "text/plain": [
       "Text(0.5, 1.0, 'Box plot of x')"
      ]
     },
     "execution_count": 105,
     "metadata": {},
     "output_type": "execute_result"
    },
    {
     "data": {
      "image/png": "[encoded data removed]",
      "text/plain": [
       "<Figure size 640x480 with 1 Axes>"
      ]
     },
     "metadata": {},
     "output_type": "display_data"
    }
   ],
   "source": [
    "plt.boxplot(data['x'])\n",
    "plt.title('Box plot of x')\n"
   ]
  },
  {
   "cell_type": "code",
   "execution_count": 106,
   "id": "2269efd1",
   "metadata": {},
   "outputs": [
    {
     "data": {
      "text/plain": [
       "Text(0.5, 1.0, 'Box plot of y')"
      ]
     },
     "execution_count": 106,
     "metadata": {},
     "output_type": "execute_result"
    },
    {
     "data": {
      "image/png": "[encoded data removed]",
      "text/plain": [
       "<Figure size 640x480 with 1 Axes>"
      ]
     },
     "metadata": {},
     "output_type": "display_data"
    }
   ],
   "source": [
    "plt.boxplot(data['y'])\n",
    "plt.title('Box plot of y')"
   ]
  },
  {
   "cell_type": "code",
   "execution_count": 107,
   "id": "604cc41f",
   "metadata": {
    "scrolled": true
   },
   "outputs": [
    {
     "name": "stderr",
     "output_type": "stream",
     "text": [
      "C:\\Users\\yoojin\\AppData\\Local\\Temp\\ipykernel_14224\\1613028508.py:1: DeprecationWarning: the `interpolation=` argument to percentile was renamed to `method=`, which has additional options.\n",
      "Users of the modes 'nearest', 'lower', 'higher', or 'midpoint' are encouraged to review the method they used. (Deprecated NumPy 1.22)\n",
      "  Q1=np.percentile(data['y'],25,interpolation='midpoint')\n",
      "C:\\Users\\yoojin\\AppData\\Local\\Temp\\ipykernel_14224\\1613028508.py:2: DeprecationWarning: the `interpolation=` argument to percentile was renamed to `method=`, which has additional options.\n",
      "Users of the modes 'nearest', 'lower', 'higher', or 'midpoint' are encouraged to review the method they used. (Deprecated NumPy 1.22)\n",
      "  Q2=np.percentile(data['y'],50,interpolation='midpoint')\n",
      "C:\\Users\\yoojin\\AppData\\Local\\Temp\\ipykernel_14224\\1613028508.py:3: DeprecationWarning: the `interpolation=` argument to percentile was renamed to `method=`, which has additional options.\n",
      "Users of the modes 'nearest', 'lower', 'higher', or 'midpoint' are encouraged to review the method they used. (Deprecated NumPy 1.22)\n",
      "  Q3=np.percentile(data['y'],75,interpolation='midpoint')\n"
     ]
    }
   ],
   "source": [
    "Q1=np.percentile(data['y'],25,interpolation='midpoint')\n",
    "Q2=np.percentile(data['y'],50,interpolation='midpoint')\n",
    "Q3=np.percentile(data['y'],75,interpolation='midpoint')"
   ]
  },
  {
   "cell_type": "code",
   "execution_count": 108,
   "id": "72987cde",
   "metadata": {},
   "outputs": [
    {
     "name": "stdout",
     "output_type": "stream",
     "text": [
      "4.72\n",
      "5.71\n",
      "6.54\n"
     ]
    }
   ],
   "source": [
    "print(Q1)\n",
    "print(Q2)\n",
    "print(Q3)"
   ]
  },
  {
   "cell_type": "code",
   "execution_count": 109,
   "id": "1eda2666",
   "metadata": {},
   "outputs": [
    {
     "data": {
      "text/plain": [
       "5.71"
      ]
     },
     "execution_count": 109,
     "metadata": {},
     "output_type": "execute_result"
    }
   ],
   "source": [
    "data['y'].median()"
   ]
  },
  {
   "cell_type": "code",
   "execution_count": 110,
   "id": "dda833d7",
   "metadata": {},
   "outputs": [],
   "source": [
    "IQR=Q3-Q1"
   ]
  },
  {
   "cell_type": "code",
   "execution_count": 111,
   "id": "8242a4d0",
   "metadata": {},
   "outputs": [],
   "source": [
    "low_lim=Q1-1.5*IQR\n",
    "up_lim=Q3+1.5*IQR"
   ]
  },
  {
   "cell_type": "code",
   "execution_count": 112,
   "id": "15cfe08d",
   "metadata": {},
   "outputs": [
    {
     "name": "stdout",
     "output_type": "stream",
     "text": [
      "1.9899999999999993\n",
      "9.27\n"
     ]
    }
   ],
   "source": [
    "print(low_lim)\n",
    "print(up_lim)"
   ]
  },
  {
   "cell_type": "code",
   "execution_count": 113,
   "id": "0c0cd330",
   "metadata": {},
   "outputs": [],
   "source": [
    "outlier=[]\n",
    "for x in data['y']:\n",
    "    if((x>up_lim)or(x<low_lim)):\n",
    "        outlier.append(x)"
   ]
  },
  {
   "cell_type": "code",
   "execution_count": 114,
   "id": "6a5cb5eb",
   "metadata": {},
   "outputs": [
    {
     "data": {
      "text/plain": [
       "[0.0, 0.0, 0.0, 0.0, 0.0, 31.8, 0.0, 0.0]"
      ]
     },
     "execution_count": 114,
     "metadata": {},
     "output_type": "execute_result"
    }
   ],
   "source": [
    "outlier"
   ]
  },
  {
   "cell_type": "code",
   "execution_count": 115,
   "id": "a9f450a9",
   "metadata": {},
   "outputs": [
    {
     "data": {
      "text/plain": [
       "Int64Index([49189], dtype='int64')"
      ]
     },
     "execution_count": 115,
     "metadata": {},
     "output_type": "execute_result"
    }
   ],
   "source": [
    "ind1 = data['y']>up_lim\n",
    "data.loc[ind1].index"
   ]
  },
  {
   "cell_type": "code",
   "execution_count": 116,
   "id": "759ea26a",
   "metadata": {},
   "outputs": [],
   "source": [
    "data.drop([49189 ], inplace=True)"
   ]
  },
  {
   "cell_type": "code",
   "execution_count": 117,
   "id": "5c0b66ac",
   "metadata": {},
   "outputs": [
    {
     "data": {
      "text/plain": [
       "Text(0.5, 1.0, 'Box plot of y')"
      ]
     },
     "execution_count": 117,
     "metadata": {},
     "output_type": "execute_result"
    },
    {
     "data": {
      "image/png": "[encoded data removed]",
      "text/plain": [
       "<Figure size 640x480 with 1 Axes>"
      ]
     },
     "metadata": {},
     "output_type": "display_data"
    }
   ],
   "source": [
    "plt.boxplot(data['y'])\n",
    "plt.title('Box plot of y')"
   ]
  },
  {
   "cell_type": "code",
   "execution_count": 118,
   "id": "dd5d25fb",
   "metadata": {},
   "outputs": [
    {
     "data": {
      "text/plain": [
       "Text(0.5, 1.0, 'Box plot of table')"
      ]
     },
     "execution_count": 118,
     "metadata": {},
     "output_type": "execute_result"
    },
    {
     "data": {
      "image/png": "[encoded data removed]",
      "text/plain": [
       "<Figure size 640x480 with 1 Axes>"
      ]
     },
     "metadata": {},
     "output_type": "display_data"
    }
   ],
   "source": [
    "plt.boxplot(data['table'])\n",
    "plt.title('Box plot of table')"
   ]
  },
  {
   "cell_type": "code",
   "execution_count": 119,
   "id": "1fb4c415",
   "metadata": {},
   "outputs": [
    {
     "name": "stderr",
     "output_type": "stream",
     "text": [
      "C:\\Users\\yoojin\\AppData\\Local\\Temp\\ipykernel_14224\\2066389225.py:1: DeprecationWarning: the `interpolation=` argument to percentile was renamed to `method=`, which has additional options.\n",
      "Users of the modes 'nearest', 'lower', 'higher', or 'midpoint' are encouraged to review the method they used. (Deprecated NumPy 1.22)\n",
      "  Q1=np.percentile(data['table'],25,interpolation='midpoint')\n",
      "C:\\Users\\yoojin\\AppData\\Local\\Temp\\ipykernel_14224\\2066389225.py:2: DeprecationWarning: the `interpolation=` argument to percentile was renamed to `method=`, which has additional options.\n",
      "Users of the modes 'nearest', 'lower', 'higher', or 'midpoint' are encouraged to review the method they used. (Deprecated NumPy 1.22)\n",
      "  Q2=np.percentile(data['table'],50,interpolation='midpoint')\n",
      "C:\\Users\\yoojin\\AppData\\Local\\Temp\\ipykernel_14224\\2066389225.py:3: DeprecationWarning: the `interpolation=` argument to percentile was renamed to `method=`, which has additional options.\n",
      "Users of the modes 'nearest', 'lower', 'higher', or 'midpoint' are encouraged to review the method they used. (Deprecated NumPy 1.22)\n",
      "  Q3=np.percentile(data['table'],75,interpolation='midpoint')\n"
     ]
    }
   ],
   "source": [
    "Q1=np.percentile(data['table'],25,interpolation='midpoint')\n",
    "Q2=np.percentile(data['table'],50,interpolation='midpoint')\n",
    "Q3=np.percentile(data['table'],75,interpolation='midpoint')"
   ]
  },
  {
   "cell_type": "code",
   "execution_count": 120,
   "id": "54749cef",
   "metadata": {},
   "outputs": [
    {
     "name": "stdout",
     "output_type": "stream",
     "text": [
      "56.0\n",
      "57.0\n",
      "59.0\n"
     ]
    }
   ],
   "source": [
    "print(Q1)\n",
    "print(Q2)\n",
    "print(Q3)"
   ]
  },
  {
   "cell_type": "code",
   "execution_count": 121,
   "id": "a4e65432",
   "metadata": {},
   "outputs": [
    {
     "data": {
      "text/plain": [
       "57.0"
      ]
     },
     "execution_count": 121,
     "metadata": {},
     "output_type": "execute_result"
    }
   ],
   "source": [
    "data['table'].median()"
   ]
  },
  {
   "cell_type": "code",
   "execution_count": 122,
   "id": "789480d8",
   "metadata": {},
   "outputs": [],
   "source": [
    "IQR=Q3-Q1"
   ]
  },
  {
   "cell_type": "code",
   "execution_count": 123,
   "id": "f9c1b4a7",
   "metadata": {},
   "outputs": [],
   "source": [
    "low_lim=Q1-1.5*IQR\n",
    "up_lim=Q3+1.5*IQR"
   ]
  },
  {
   "cell_type": "code",
   "execution_count": 124,
   "id": "c1107303",
   "metadata": {
    "scrolled": true
   },
   "outputs": [
    {
     "name": "stdout",
     "output_type": "stream",
     "text": [
      "51.5\n",
      "63.5\n"
     ]
    }
   ],
   "source": [
    "print(low_lim)\n",
    "print(up_lim)"
   ]
  },
  {
   "cell_type": "code",
   "execution_count": 125,
   "id": "6dec061c",
   "metadata": {},
   "outputs": [],
   "source": [
    "outlier=[]\n",
    "for x in data['table']:\n",
    "    if((x>up_lim)or(x<low_lim)):\n",
    "        outlier.append(x)"
   ]
  },
  {
   "cell_type": "code",
   "execution_count": 126,
   "id": "fc98345e",
   "metadata": {
    "scrolled": false
   },
   "outputs": [
    {
     "data": {
      "text/plain": [
       "[65.0,\n",
       " 69.0,\n",
       " 64.0,\n",
       " 64.0,\n",
       " 67.0,\n",
       " 64.0,\n",
       " 66.0,\n",
       " 70.0,\n",
       " 66.0,\n",
       " 68.0,\n",
       " 64.0,\n",
       " 64.0,\n",
       " 67.0,\n",
       " 67.0,\n",
       " 65.0,\n",
       " 70.0,\n",
       " 64.0,\n",
       " 69.0,\n",
       " 65.0,\n",
       " 64.0,\n",
       " 66.0,\n",
       " 64.0,\n",
       " 67.0,\n",
       " 67.0,\n",
       " 66.0,\n",
       " 64.0,\n",
       " 65.0,\n",
       " 66.0,\n",
       " 51.0,\n",
       " 67.0,\n",
       " 66.0,\n",
       " 66.0,\n",
       " 64.0,\n",
       " 65.0,\n",
       " 66.0,\n",
       " 65.0,\n",
       " 65.0,\n",
       " 64.0,\n",
       " 67.0,\n",
       " 65.0,\n",
       " 64.0,\n",
       " 66.0,\n",
       " 65.0,\n",
       " 68.0,\n",
       " 64.0,\n",
       " 64.0,\n",
       " 64.0,\n",
       " 65.0,\n",
       " 64.0,\n",
       " 66.0,\n",
       " 66.0,\n",
       " 66.0,\n",
       " 50.1,\n",
       " 64.0,\n",
       " 64.0,\n",
       " 64.0,\n",
       " 64.0,\n",
       " 64.0,\n",
       " 64.0,\n",
       " 65.0,\n",
       " 64.0,\n",
       " 64.0,\n",
       " 51.0,\n",
       " 64.0,\n",
       " 65.0,\n",
       " 51.0,\n",
       " 64.0,\n",
       " 64.0,\n",
       " 66.0,\n",
       " 64.0,\n",
       " 64.0,\n",
       " 66.0,\n",
       " 65.0,\n",
       " 64.0,\n",
       " 64.0,\n",
       " 64.0,\n",
       " 65.0,\n",
       " 64.0,\n",
       " 67.0,\n",
       " 65.0,\n",
       " 65.0,\n",
       " 64.0,\n",
       " 65.0,\n",
       " 65.0,\n",
       " 65.0,\n",
       " 66.0,\n",
       " 65.0,\n",
       " 64.0,\n",
       " 65.0,\n",
       " 67.0,\n",
       " 66.0,\n",
       " 64.0,\n",
       " 68.0,\n",
       " 64.0,\n",
       " 65.0,\n",
       " 65.0,\n",
       " 64.0,\n",
       " 65.0,\n",
       " 64.0,\n",
       " 64.0,\n",
       " 66.0,\n",
       " 64.0,\n",
       " 64.0,\n",
       " 64.0,\n",
       " 66.0,\n",
       " 65.0,\n",
       " 49.0,\n",
       " 65.0,\n",
       " 66.0,\n",
       " 66.0,\n",
       " 67.0,\n",
       " 67.0,\n",
       " 65.0,\n",
       " 67.0,\n",
       " 66.0,\n",
       " 64.0,\n",
       " 65.0,\n",
       " 66.0,\n",
       " 67.0,\n",
       " 65.0,\n",
       " 64.0,\n",
       " 65.0,\n",
       " 65.0,\n",
       " 64.0,\n",
       " 64.0,\n",
       " 65.0,\n",
       " 64.0,\n",
       " 50.0,\n",
       " 64.0,\n",
       " 64.0,\n",
       " 64.0,\n",
       " 64.0,\n",
       " 64.0,\n",
       " 64.0,\n",
       " 65.0,\n",
       " 66.0,\n",
       " 64.0,\n",
       " 64.0,\n",
       " 67.0,\n",
       " 64.0,\n",
       " 65.0,\n",
       " 68.0,\n",
       " 66.0,\n",
       " 65.0,\n",
       " 64.0,\n",
       " 64.0,\n",
       " 65.0,\n",
       " 64.0,\n",
       " 65.0,\n",
       " 65.0,\n",
       " 64.0,\n",
       " 51.0,\n",
       " 64.0,\n",
       " 66.0,\n",
       " 64.0,\n",
       " 65.0,\n",
       " 67.0,\n",
       " 64.0,\n",
       " 66.0,\n",
       " 66.0,\n",
       " 66.0,\n",
       " 64.0,\n",
       " 64.0,\n",
       " 68.0,\n",
       " 64.0,\n",
       " 64.0,\n",
       " 64.0,\n",
       " 64.0,\n",
       " 64.0,\n",
       " 65.0,\n",
       " 67.0,\n",
       " 64.0,\n",
       " 65.0,\n",
       " 66.0,\n",
       " 64.0,\n",
       " 66.0,\n",
       " 64.0,\n",
       " 64.0,\n",
       " 64.0,\n",
       " 65.0,\n",
       " 64.0,\n",
       " 68.0,\n",
       " 65.0,\n",
       " 64.0,\n",
       " 64.0,\n",
       " 64.0,\n",
       " 64.0,\n",
       " 64.0,\n",
       " 43.0,\n",
       " 64.0,\n",
       " 64.0,\n",
       " 65.0,\n",
       " 65.0,\n",
       " 66.0,\n",
       " 67.0,\n",
       " 64.0,\n",
       " 64.0,\n",
       " 65.0,\n",
       " 64.0,\n",
       " 64.0,\n",
       " 65.0,\n",
       " 64.0,\n",
       " 64.0,\n",
       " 64.0,\n",
       " 64.0,\n",
       " 65.0,\n",
       " 64.0,\n",
       " 64.0,\n",
       " 65.0,\n",
       " 65.0,\n",
       " 64.0,\n",
       " 64.0,\n",
       " 65.0,\n",
       " 64.0,\n",
       " 64.0,\n",
       " 68.0,\n",
       " 67.0,\n",
       " 64.0,\n",
       " 64.0,\n",
       " 66.0,\n",
       " 64.0,\n",
       " 64.0,\n",
       " 64.0,\n",
       " 64.0,\n",
       " 64.0,\n",
       " 64.0,\n",
       " 64.0,\n",
       " 64.0,\n",
       " 65.0,\n",
       " 65.0,\n",
       " 67.0,\n",
       " 64.0,\n",
       " 65.0,\n",
       " 66.0,\n",
       " 64.0,\n",
       " 64.0,\n",
       " 64.0,\n",
       " 65.0,\n",
       " 65.0,\n",
       " 65.0,\n",
       " 65.0,\n",
       " 67.0,\n",
       " 64.0,\n",
       " 65.0,\n",
       " 66.0,\n",
       " 67.0,\n",
       " 66.0,\n",
       " 69.0,\n",
       " 64.0,\n",
       " 65.0,\n",
       " 65.0,\n",
       " 65.0,\n",
       " 64.0,\n",
       " 64.0,\n",
       " 64.0,\n",
       " 64.0,\n",
       " 64.0,\n",
       " 66.0,\n",
       " 68.0,\n",
       " 66.0,\n",
       " 64.0,\n",
       " 66.0,\n",
       " 64.0,\n",
       " 65.0,\n",
       " 64.0,\n",
       " 64.0,\n",
       " 65.0,\n",
       " 69.0,\n",
       " 65.0,\n",
       " 66.0,\n",
       " 64.0,\n",
       " 65.0,\n",
       " 64.0,\n",
       " 64.0,\n",
       " 65.0,\n",
       " 66.0,\n",
       " 67.0,\n",
       " 66.0,\n",
       " 49.0,\n",
       " 68.0,\n",
       " 65.0,\n",
       " 64.0,\n",
       " 70.0,\n",
       " 64.0,\n",
       " 66.0,\n",
       " 64.0,\n",
       " 65.0,\n",
       " 67.0,\n",
       " 68.0,\n",
       " 64.0,\n",
       " 64.0,\n",
       " 64.0,\n",
       " 64.0,\n",
       " 66.0,\n",
       " 65.0,\n",
       " 68.0,\n",
       " 64.0,\n",
       " 68.0,\n",
       " 66.0,\n",
       " 65.0,\n",
       " 66.0,\n",
       " 69.0,\n",
       " 66.0,\n",
       " 64.0,\n",
       " 65.0,\n",
       " 95.0,\n",
       " 66.0,\n",
       " 65.0,\n",
       " 66.0,\n",
       " 50.0,\n",
       " 65.0,\n",
       " 64.0,\n",
       " 66.0,\n",
       " 66.0,\n",
       " 64.0,\n",
       " 65.0,\n",
       " 65.0,\n",
       " 66.0,\n",
       " 65.0,\n",
       " 65.0,\n",
       " 65.0,\n",
       " 51.0,\n",
       " 64.0,\n",
       " 66.0,\n",
       " 69.0,\n",
       " 64.0,\n",
       " 65.0,\n",
       " 65.0,\n",
       " 64.0,\n",
       " 64.0,\n",
       " 65.0,\n",
       " 64.0,\n",
       " 64.0,\n",
       " 64.0,\n",
       " 64.0,\n",
       " 65.0,\n",
       " 64.0,\n",
       " 65.0,\n",
       " 64.0,\n",
       " 64.0,\n",
       " 64.0,\n",
       " 64.0,\n",
       " 64.0,\n",
       " 64.0,\n",
       " 66.0,\n",
       " 65.0,\n",
       " 66.0,\n",
       " 66.0,\n",
       " 64.0,\n",
       " 65.0,\n",
       " 67.0,\n",
       " 64.0,\n",
       " 66.0,\n",
       " 51.0,\n",
       " 67.0,\n",
       " 65.0,\n",
       " 64.0,\n",
       " 65.0,\n",
       " 66.0,\n",
       " 65.0,\n",
       " 64.0,\n",
       " 44.0,\n",
       " 64.0,\n",
       " 68.0,\n",
       " 65.0,\n",
       " 65.0,\n",
       " 67.0,\n",
       " 64.0,\n",
       " 64.0,\n",
       " 67.0,\n",
       " 64.0,\n",
       " 64.0,\n",
       " 64.0,\n",
       " 64.0,\n",
       " 66.0,\n",
       " 64.0,\n",
       " 64.0,\n",
       " 65.0,\n",
       " 64.0,\n",
       " 64.0,\n",
       " 64.0,\n",
       " 65.0,\n",
       " 64.0,\n",
       " 66.0,\n",
       " 64.0,\n",
       " 64.0,\n",
       " 64.0,\n",
       " 65.0,\n",
       " 64.0,\n",
       " 64.0,\n",
       " 65.0,\n",
       " 66.0,\n",
       " 66.0,\n",
       " 65.0,\n",
       " 64.0,\n",
       " 69.0,\n",
       " 65.0,\n",
       " 65.0,\n",
       " 64.0,\n",
       " 64.0,\n",
       " 66.0,\n",
       " 64.0,\n",
       " 67.0,\n",
       " 64.0,\n",
       " 64.0,\n",
       " 64.0,\n",
       " 64.0,\n",
       " 68.0,\n",
       " 64.0,\n",
       " 65.0,\n",
       " 64.0,\n",
       " 68.0,\n",
       " 65.0,\n",
       " 64.0,\n",
       " 64.0,\n",
       " 64.0,\n",
       " 64.0,\n",
       " 64.0,\n",
       " 64.0,\n",
       " 70.0,\n",
       " 66.0,\n",
       " 65.0,\n",
       " 65.0,\n",
       " 66.0,\n",
       " 66.0,\n",
       " 64.0,\n",
       " 65.0,\n",
       " 64.0,\n",
       " 68.0,\n",
       " 64.0,\n",
       " 65.0,\n",
       " 64.3,\n",
       " 64.0,\n",
       " 65.0,\n",
       " 64.0,\n",
       " 66.0,\n",
       " 64.0,\n",
       " 69.0,\n",
       " 65.0,\n",
       " 66.0,\n",
       " 65.0,\n",
       " 64.0,\n",
       " 70.0,\n",
       " 65.0,\n",
       " 65.0,\n",
       " 64.0,\n",
       " 64.0,\n",
       " 65.0,\n",
       " 71.0,\n",
       " 66.0,\n",
       " 67.0,\n",
       " 64.0,\n",
       " 64.0,\n",
       " 64.0,\n",
       " 64.0,\n",
       " 51.0,\n",
       " 68.0,\n",
       " 51.0,\n",
       " 64.0,\n",
       " 64.0,\n",
       " 64.0,\n",
       " 67.0,\n",
       " 67.0,\n",
       " 64.0,\n",
       " 67.0,\n",
       " 66.0,\n",
       " 64.0,\n",
       " 66.0,\n",
       " 70.0,\n",
       " 67.0,\n",
       " 64.0,\n",
       " 67.0,\n",
       " 65.0,\n",
       " 67.0,\n",
       " 64.0,\n",
       " 51.0,\n",
       " 65.0,\n",
       " 67.0,\n",
       " 65.0,\n",
       " 64.0,\n",
       " 64.0,\n",
       " 66.0,\n",
       " 66.0,\n",
       " 65.0,\n",
       " 66.0,\n",
       " 66.0,\n",
       " 64.0,\n",
       " 66.0,\n",
       " 64.0,\n",
       " 64.2,\n",
       " 64.0,\n",
       " 68.0,\n",
       " 64.0,\n",
       " 64.0,\n",
       " 66.0,\n",
       " 66.0,\n",
       " 66.0,\n",
       " 66.0,\n",
       " 65.0,\n",
       " 66.0,\n",
       " 65.0,\n",
       " 65.0,\n",
       " 64.0,\n",
       " 64.0,\n",
       " 64.0,\n",
       " 66.0,\n",
       " 64.0,\n",
       " 64.0,\n",
       " 64.0,\n",
       " 65.0,\n",
       " 64.0,\n",
       " 64.0,\n",
       " 73.0,\n",
       " 64.0,\n",
       " 64.0,\n",
       " 66.0,\n",
       " 64.0,\n",
       " 64.0,\n",
       " 65.0,\n",
       " 65.0,\n",
       " 65.0,\n",
       " 64.0,\n",
       " 67.0,\n",
       " 64.0,\n",
       " 64.0,\n",
       " 65.0,\n",
       " 65.0,\n",
       " 68.0,\n",
       " 64.0,\n",
       " 64.0,\n",
       " 65.0,\n",
       " 66.0,\n",
       " 65.4,\n",
       " 64.0,\n",
       " 65.0,\n",
       " 65.0,\n",
       " 64.0,\n",
       " 65.0,\n",
       " 64.0,\n",
       " 64.0,\n",
       " 66.0,\n",
       " 79.0,\n",
       " 65.0,\n",
       " 64.0,\n",
       " 64.0,\n",
       " 68.0,\n",
       " 70.0,\n",
       " 66.0,\n",
       " 64.0,\n",
       " 65.0,\n",
       " 64.0,\n",
       " 65.0,\n",
       " 67.0,\n",
       " 66.0,\n",
       " 64.0,\n",
       " 65.0,\n",
       " 65.0,\n",
       " 76.0,\n",
       " 64.0,\n",
       " 73.0,\n",
       " 64.0,\n",
       " 65.0,\n",
       " 64.0,\n",
       " 65.0,\n",
       " 66.0,\n",
       " 66.0,\n",
       " 65.0,\n",
       " 65.0,\n",
       " 65.0,\n",
       " 65.0,\n",
       " 70.0,\n",
       " 64.0,\n",
       " 64.0,\n",
       " 65.0,\n",
       " 64.0,\n",
       " 66.0,\n",
       " 65.0,\n",
       " 70.0,\n",
       " 69.0,\n",
       " 67.0,\n",
       " 67.0,\n",
       " 64.0,\n",
       " 64.0,\n",
       " 64.0,\n",
       " 73.0,\n",
       " 73.0,\n",
       " 66.0,\n",
       " 64.0,\n",
       " 64.0,\n",
       " 68.0,\n",
       " 66.0,\n",
       " 65.0,\n",
       " 65.0,\n",
       " 67.0,\n",
       " 64.0,\n",
       " 67.0,\n",
       " 65.0,\n",
       " 65.0,\n",
       " 64.0,\n",
       " 64.0,\n",
       " 65.0]"
      ]
     },
     "execution_count": 126,
     "metadata": {},
     "output_type": "execute_result"
    }
   ],
   "source": [
    "outlier"
   ]
  },
  {
   "cell_type": "code",
   "execution_count": 127,
   "id": "1c79d92c",
   "metadata": {},
   "outputs": [
    {
     "data": {
      "text/plain": [
       "Int64Index([    2,    91,   145,   219,   227,   239,   296,   314,   356,\n",
       "              359,\n",
       "            ...\n",
       "            53226, 53503, 53542, 53577, 53660, 53695, 53697, 53756, 53757,\n",
       "            53785],\n",
       "           dtype='int64', length=585)"
      ]
     },
     "execution_count": 127,
     "metadata": {},
     "output_type": "execute_result"
    }
   ],
   "source": [
    "ind1 = data['table']>up_lim\n",
    "data.loc[ind1].index"
   ]
  },
  {
   "cell_type": "code",
   "execution_count": 128,
   "id": "39ad8b3b",
   "metadata": {},
   "outputs": [],
   "source": [
    "data.drop([ 504,   526,   712,   771,   777,   868,   919,   929,   932,\n",
    "             1140,\n",
    "            52731, 52748, 52825, 52860, 52861, 52865, 52869, 52916, 53064,\n",
    "            53154 ], inplace=True)"
   ]
  },
  {
   "cell_type": "code",
   "execution_count": 129,
   "id": "dbdc5d3f",
   "metadata": {},
   "outputs": [
    {
     "data": {
      "text/plain": [
       "Text(0.5, 1.0, 'Box plot of table')"
      ]
     },
     "execution_count": 129,
     "metadata": {},
     "output_type": "execute_result"
    },
    {
     "data": {
      "image/png": "[encoded data removed]",
      "text/plain": [
       "<Figure size 640x480 with 1 Axes>"
      ]
     },
     "metadata": {},
     "output_type": "display_data"
    }
   ],
   "source": [
    "plt.boxplot(data['table'])\n",
    "plt.title('Box plot of table')"
   ]
  },
  {
   "cell_type": "code",
   "execution_count": 130,
   "id": "deefac23",
   "metadata": {},
   "outputs": [
    {
     "data": {
      "text/plain": [
       "(53880, 9)"
      ]
     },
     "execution_count": 130,
     "metadata": {},
     "output_type": "execute_result"
    }
   ],
   "source": [
    "data.shape"
   ]
  },
  {
   "cell_type": "code",
   "execution_count": 131,
   "id": "5c374115",
   "metadata": {},
   "outputs": [
    {
     "data": {
      "text/plain": [
       "0        0.479583\n",
       "1        0.458258\n",
       "2        0.479583\n",
       "3        0.538516\n",
       "4        0.556776\n",
       "           ...   \n",
       "53935    0.848528\n",
       "53936    0.848528\n",
       "53937    0.836660\n",
       "53938    0.927362\n",
       "53939    0.866025\n",
       "Name: carat, Length: 53880, dtype: float64"
      ]
     },
     "execution_count": 131,
     "metadata": {},
     "output_type": "execute_result"
    }
   ],
   "source": [
    "data['carat'] ** 0.5"
   ]
  },
  {
   "cell_type": "code",
   "execution_count": 132,
   "id": "41032fd5",
   "metadata": {},
   "outputs": [],
   "source": [
    "data['sqrt_carat'] = data[\"carat\"]**0.5"
   ]
  },
  {
   "cell_type": "code",
   "execution_count": 133,
   "id": "78e145dc",
   "metadata": {},
   "outputs": [
    {
     "data": {
      "text/html": [
       "<div>\n",
       "<style scoped>\n",
       "    .dataframe tbody tr th:only-of-type {\n",
       "        vertical-align: middle;\n",
       "    }\n",
       "\n",
       "    .dataframe tbody tr th {\n",
       "        vertical-align: top;\n",
       "    }\n",
       "\n",
       "    .dataframe thead th {\n",
       "        text-align: right;\n",
       "    }\n",
       "</style>\n",
       "<table border=\"1\" class=\"dataframe\">\n",
       "  <thead>\n",
       "    <tr style=\"text-align: right;\">\n",
       "      <th></th>\n",
       "      <th>carat</th>\n",
       "      <th>cut</th>\n",
       "      <th>color</th>\n",
       "      <th>clarity</th>\n",
       "      <th>table</th>\n",
       "      <th>x</th>\n",
       "      <th>y</th>\n",
       "      <th>z</th>\n",
       "      <th>price_new</th>\n",
       "      <th>sqrt_carat</th>\n",
       "    </tr>\n",
       "  </thead>\n",
       "  <tbody>\n",
       "    <tr>\n",
       "      <th>0</th>\n",
       "      <td>0.23</td>\n",
       "      <td>Ideal</td>\n",
       "      <td>E</td>\n",
       "      <td>SI2</td>\n",
       "      <td>55.0</td>\n",
       "      <td>3.95</td>\n",
       "      <td>3.98</td>\n",
       "      <td>2.43</td>\n",
       "      <td>163.0</td>\n",
       "      <td>0.479583</td>\n",
       "    </tr>\n",
       "    <tr>\n",
       "      <th>1</th>\n",
       "      <td>0.21</td>\n",
       "      <td>Premium</td>\n",
       "      <td>E</td>\n",
       "      <td>SI1</td>\n",
       "      <td>61.0</td>\n",
       "      <td>3.89</td>\n",
       "      <td>3.84</td>\n",
       "      <td>2.31</td>\n",
       "      <td>163.0</td>\n",
       "      <td>0.458258</td>\n",
       "    </tr>\n",
       "    <tr>\n",
       "      <th>2</th>\n",
       "      <td>0.23</td>\n",
       "      <td>Good</td>\n",
       "      <td>E</td>\n",
       "      <td>VS1</td>\n",
       "      <td>65.0</td>\n",
       "      <td>4.05</td>\n",
       "      <td>4.07</td>\n",
       "      <td>2.31</td>\n",
       "      <td>163.5</td>\n",
       "      <td>0.479583</td>\n",
       "    </tr>\n",
       "    <tr>\n",
       "      <th>3</th>\n",
       "      <td>0.29</td>\n",
       "      <td>Premium</td>\n",
       "      <td>I</td>\n",
       "      <td>VS2</td>\n",
       "      <td>58.0</td>\n",
       "      <td>4.20</td>\n",
       "      <td>4.23</td>\n",
       "      <td>2.63</td>\n",
       "      <td>167.0</td>\n",
       "      <td>0.538516</td>\n",
       "    </tr>\n",
       "    <tr>\n",
       "      <th>4</th>\n",
       "      <td>0.31</td>\n",
       "      <td>Good</td>\n",
       "      <td>J</td>\n",
       "      <td>SI2</td>\n",
       "      <td>58.0</td>\n",
       "      <td>4.34</td>\n",
       "      <td>4.35</td>\n",
       "      <td>2.75</td>\n",
       "      <td>167.5</td>\n",
       "      <td>0.556776</td>\n",
       "    </tr>\n",
       "    <tr>\n",
       "      <th>...</th>\n",
       "      <td>...</td>\n",
       "      <td>...</td>\n",
       "      <td>...</td>\n",
       "      <td>...</td>\n",
       "      <td>...</td>\n",
       "      <td>...</td>\n",
       "      <td>...</td>\n",
       "      <td>...</td>\n",
       "      <td>...</td>\n",
       "      <td>...</td>\n",
       "    </tr>\n",
       "    <tr>\n",
       "      <th>53935</th>\n",
       "      <td>0.72</td>\n",
       "      <td>Ideal</td>\n",
       "      <td>D</td>\n",
       "      <td>SI1</td>\n",
       "      <td>57.0</td>\n",
       "      <td>5.75</td>\n",
       "      <td>5.76</td>\n",
       "      <td>3.50</td>\n",
       "      <td>1378.5</td>\n",
       "      <td>0.848528</td>\n",
       "    </tr>\n",
       "    <tr>\n",
       "      <th>53936</th>\n",
       "      <td>0.72</td>\n",
       "      <td>Good</td>\n",
       "      <td>D</td>\n",
       "      <td>SI1</td>\n",
       "      <td>55.0</td>\n",
       "      <td>5.69</td>\n",
       "      <td>5.75</td>\n",
       "      <td>3.61</td>\n",
       "      <td>1378.5</td>\n",
       "      <td>0.848528</td>\n",
       "    </tr>\n",
       "    <tr>\n",
       "      <th>53937</th>\n",
       "      <td>0.70</td>\n",
       "      <td>Very Good</td>\n",
       "      <td>D</td>\n",
       "      <td>SI1</td>\n",
       "      <td>60.0</td>\n",
       "      <td>5.66</td>\n",
       "      <td>5.68</td>\n",
       "      <td>3.56</td>\n",
       "      <td>1378.5</td>\n",
       "      <td>0.836660</td>\n",
       "    </tr>\n",
       "    <tr>\n",
       "      <th>53938</th>\n",
       "      <td>0.86</td>\n",
       "      <td>Premium</td>\n",
       "      <td>H</td>\n",
       "      <td>SI2</td>\n",
       "      <td>58.0</td>\n",
       "      <td>6.15</td>\n",
       "      <td>6.12</td>\n",
       "      <td>3.74</td>\n",
       "      <td>1378.5</td>\n",
       "      <td>0.927362</td>\n",
       "    </tr>\n",
       "    <tr>\n",
       "      <th>53939</th>\n",
       "      <td>0.75</td>\n",
       "      <td>Ideal</td>\n",
       "      <td>D</td>\n",
       "      <td>SI2</td>\n",
       "      <td>55.0</td>\n",
       "      <td>5.83</td>\n",
       "      <td>5.87</td>\n",
       "      <td>3.64</td>\n",
       "      <td>1378.5</td>\n",
       "      <td>0.866025</td>\n",
       "    </tr>\n",
       "  </tbody>\n",
       "</table>\n",
       "<p>53880 rows × 10 columns</p>\n",
       "</div>"
      ],
      "text/plain": [
       "       carat        cut color clarity  table     x     y     z  price_new  \\\n",
       "0       0.23      Ideal     E     SI2   55.0  3.95  3.98  2.43      163.0   \n",
       "1       0.21    Premium     E     SI1   61.0  3.89  3.84  2.31      163.0   \n",
       "2       0.23       Good     E     VS1   65.0  4.05  4.07  2.31      163.5   \n",
       "3       0.29    Premium     I     VS2   58.0  4.20  4.23  2.63      167.0   \n",
       "4       0.31       Good     J     SI2   58.0  4.34  4.35  2.75      167.5   \n",
       "...      ...        ...   ...     ...    ...   ...   ...   ...        ...   \n",
       "53935   0.72      Ideal     D     SI1   57.0  5.75  5.76  3.50     1378.5   \n",
       "53936   0.72       Good     D     SI1   55.0  5.69  5.75  3.61     1378.5   \n",
       "53937   0.70  Very Good     D     SI1   60.0  5.66  5.68  3.56     1378.5   \n",
       "53938   0.86    Premium     H     SI2   58.0  6.15  6.12  3.74     1378.5   \n",
       "53939   0.75      Ideal     D     SI2   55.0  5.83  5.87  3.64     1378.5   \n",
       "\n",
       "       sqrt_carat  \n",
       "0        0.479583  \n",
       "1        0.458258  \n",
       "2        0.479583  \n",
       "3        0.538516  \n",
       "4        0.556776  \n",
       "...           ...  \n",
       "53935    0.848528  \n",
       "53936    0.848528  \n",
       "53937    0.836660  \n",
       "53938    0.927362  \n",
       "53939    0.866025  \n",
       "\n",
       "[53880 rows x 10 columns]"
      ]
     },
     "execution_count": 133,
     "metadata": {},
     "output_type": "execute_result"
    }
   ],
   "source": [
    "data"
   ]
  },
  {
   "cell_type": "code",
   "execution_count": 134,
   "id": "314643ce",
   "metadata": {},
   "outputs": [
    {
     "data": {
      "text/plain": [
       "1.0450628246169633"
      ]
     },
     "execution_count": 134,
     "metadata": {},
     "output_type": "execute_result"
    }
   ],
   "source": [
    "data['carat'].skew()"
   ]
  },
  {
   "cell_type": "code",
   "execution_count": 135,
   "id": "b3b3bf8c",
   "metadata": {},
   "outputs": [
    {
     "data": {
      "text/plain": [
       "0.5251698143717249"
      ]
     },
     "execution_count": 135,
     "metadata": {},
     "output_type": "execute_result"
    }
   ],
   "source": [
    "data['sqrt_carat'].skew()"
   ]
  },
  {
   "cell_type": "code",
   "execution_count": 136,
   "id": "288e70af",
   "metadata": {},
   "outputs": [
    {
     "data": {
      "text/plain": [
       "0.7328292530589566"
      ]
     },
     "execution_count": 136,
     "metadata": {},
     "output_type": "execute_result"
    }
   ],
   "source": [
    "data['carat'].kurtosis()"
   ]
  },
  {
   "cell_type": "code",
   "execution_count": 137,
   "id": "bb78bfa1",
   "metadata": {},
   "outputs": [
    {
     "data": {
      "text/plain": [
       "-0.5352792056824356"
      ]
     },
     "execution_count": 137,
     "metadata": {},
     "output_type": "execute_result"
    }
   ],
   "source": [
    "data['sqrt_carat'].kurtosis()"
   ]
  },
  {
   "cell_type": "code",
   "execution_count": null,
   "id": "d33cec57",
   "metadata": {},
   "outputs": [],
   "source": []
  },
  {
   "cell_type": "markdown",
   "id": "9950ed62",
   "metadata": {},
   "source": [
    "# 3.Encoding"
   ]
  },
  {
   "cell_type": "code",
   "execution_count": 138,
   "id": "aa8334b4",
   "metadata": {},
   "outputs": [
    {
     "data": {
      "text/plain": [
       "7"
      ]
     },
     "execution_count": 138,
     "metadata": {},
     "output_type": "execute_result"
    }
   ],
   "source": [
    "data['color'].nunique()"
   ]
  },
  {
   "cell_type": "code",
   "execution_count": 139,
   "id": "6a6c02fd",
   "metadata": {},
   "outputs": [],
   "source": [
    "data = pd.get_dummies(data)"
   ]
  },
  {
   "cell_type": "code",
   "execution_count": 140,
   "id": "e9dad164",
   "metadata": {},
   "outputs": [
    {
     "data": {
      "text/html": [
       "<div>\n",
       "<style scoped>\n",
       "    .dataframe tbody tr th:only-of-type {\n",
       "        vertical-align: middle;\n",
       "    }\n",
       "\n",
       "    .dataframe tbody tr th {\n",
       "        vertical-align: top;\n",
       "    }\n",
       "\n",
       "    .dataframe thead th {\n",
       "        text-align: right;\n",
       "    }\n",
       "</style>\n",
       "<table border=\"1\" class=\"dataframe\">\n",
       "  <thead>\n",
       "    <tr style=\"text-align: right;\">\n",
       "      <th></th>\n",
       "      <th>carat</th>\n",
       "      <th>table</th>\n",
       "      <th>x</th>\n",
       "      <th>y</th>\n",
       "      <th>z</th>\n",
       "      <th>price_new</th>\n",
       "      <th>sqrt_carat</th>\n",
       "      <th>cut_Fair</th>\n",
       "      <th>cut_Good</th>\n",
       "      <th>cut_Ideal</th>\n",
       "      <th>...</th>\n",
       "      <th>color_I</th>\n",
       "      <th>color_J</th>\n",
       "      <th>clarity_I1</th>\n",
       "      <th>clarity_IF</th>\n",
       "      <th>clarity_SI1</th>\n",
       "      <th>clarity_SI2</th>\n",
       "      <th>clarity_VS1</th>\n",
       "      <th>clarity_VS2</th>\n",
       "      <th>clarity_VVS1</th>\n",
       "      <th>clarity_VVS2</th>\n",
       "    </tr>\n",
       "  </thead>\n",
       "  <tbody>\n",
       "    <tr>\n",
       "      <th>0</th>\n",
       "      <td>0.23</td>\n",
       "      <td>55.0</td>\n",
       "      <td>3.95</td>\n",
       "      <td>3.98</td>\n",
       "      <td>2.43</td>\n",
       "      <td>163.0</td>\n",
       "      <td>0.479583</td>\n",
       "      <td>0</td>\n",
       "      <td>0</td>\n",
       "      <td>1</td>\n",
       "      <td>...</td>\n",
       "      <td>0</td>\n",
       "      <td>0</td>\n",
       "      <td>0</td>\n",
       "      <td>0</td>\n",
       "      <td>0</td>\n",
       "      <td>1</td>\n",
       "      <td>0</td>\n",
       "      <td>0</td>\n",
       "      <td>0</td>\n",
       "      <td>0</td>\n",
       "    </tr>\n",
       "    <tr>\n",
       "      <th>1</th>\n",
       "      <td>0.21</td>\n",
       "      <td>61.0</td>\n",
       "      <td>3.89</td>\n",
       "      <td>3.84</td>\n",
       "      <td>2.31</td>\n",
       "      <td>163.0</td>\n",
       "      <td>0.458258</td>\n",
       "      <td>0</td>\n",
       "      <td>0</td>\n",
       "      <td>0</td>\n",
       "      <td>...</td>\n",
       "      <td>0</td>\n",
       "      <td>0</td>\n",
       "      <td>0</td>\n",
       "      <td>0</td>\n",
       "      <td>1</td>\n",
       "      <td>0</td>\n",
       "      <td>0</td>\n",
       "      <td>0</td>\n",
       "      <td>0</td>\n",
       "      <td>0</td>\n",
       "    </tr>\n",
       "    <tr>\n",
       "      <th>2</th>\n",
       "      <td>0.23</td>\n",
       "      <td>65.0</td>\n",
       "      <td>4.05</td>\n",
       "      <td>4.07</td>\n",
       "      <td>2.31</td>\n",
       "      <td>163.5</td>\n",
       "      <td>0.479583</td>\n",
       "      <td>0</td>\n",
       "      <td>1</td>\n",
       "      <td>0</td>\n",
       "      <td>...</td>\n",
       "      <td>0</td>\n",
       "      <td>0</td>\n",
       "      <td>0</td>\n",
       "      <td>0</td>\n",
       "      <td>0</td>\n",
       "      <td>0</td>\n",
       "      <td>1</td>\n",
       "      <td>0</td>\n",
       "      <td>0</td>\n",
       "      <td>0</td>\n",
       "    </tr>\n",
       "    <tr>\n",
       "      <th>3</th>\n",
       "      <td>0.29</td>\n",
       "      <td>58.0</td>\n",
       "      <td>4.20</td>\n",
       "      <td>4.23</td>\n",
       "      <td>2.63</td>\n",
       "      <td>167.0</td>\n",
       "      <td>0.538516</td>\n",
       "      <td>0</td>\n",
       "      <td>0</td>\n",
       "      <td>0</td>\n",
       "      <td>...</td>\n",
       "      <td>1</td>\n",
       "      <td>0</td>\n",
       "      <td>0</td>\n",
       "      <td>0</td>\n",
       "      <td>0</td>\n",
       "      <td>0</td>\n",
       "      <td>0</td>\n",
       "      <td>1</td>\n",
       "      <td>0</td>\n",
       "      <td>0</td>\n",
       "    </tr>\n",
       "    <tr>\n",
       "      <th>4</th>\n",
       "      <td>0.31</td>\n",
       "      <td>58.0</td>\n",
       "      <td>4.34</td>\n",
       "      <td>4.35</td>\n",
       "      <td>2.75</td>\n",
       "      <td>167.5</td>\n",
       "      <td>0.556776</td>\n",
       "      <td>0</td>\n",
       "      <td>1</td>\n",
       "      <td>0</td>\n",
       "      <td>...</td>\n",
       "      <td>0</td>\n",
       "      <td>1</td>\n",
       "      <td>0</td>\n",
       "      <td>0</td>\n",
       "      <td>0</td>\n",
       "      <td>1</td>\n",
       "      <td>0</td>\n",
       "      <td>0</td>\n",
       "      <td>0</td>\n",
       "      <td>0</td>\n",
       "    </tr>\n",
       "  </tbody>\n",
       "</table>\n",
       "<p>5 rows × 27 columns</p>\n",
       "</div>"
      ],
      "text/plain": [
       "   carat  table     x     y     z  price_new  sqrt_carat  cut_Fair  cut_Good  \\\n",
       "0   0.23   55.0  3.95  3.98  2.43      163.0    0.479583         0         0   \n",
       "1   0.21   61.0  3.89  3.84  2.31      163.0    0.458258         0         0   \n",
       "2   0.23   65.0  4.05  4.07  2.31      163.5    0.479583         0         1   \n",
       "3   0.29   58.0  4.20  4.23  2.63      167.0    0.538516         0         0   \n",
       "4   0.31   58.0  4.34  4.35  2.75      167.5    0.556776         0         1   \n",
       "\n",
       "   cut_Ideal  ...  color_I  color_J  clarity_I1  clarity_IF  clarity_SI1  \\\n",
       "0          1  ...        0        0           0           0            0   \n",
       "1          0  ...        0        0           0           0            1   \n",
       "2          0  ...        0        0           0           0            0   \n",
       "3          0  ...        1        0           0           0            0   \n",
       "4          0  ...        0        1           0           0            0   \n",
       "\n",
       "   clarity_SI2  clarity_VS1  clarity_VS2  clarity_VVS1  clarity_VVS2  \n",
       "0            1            0            0             0             0  \n",
       "1            0            0            0             0             0  \n",
       "2            0            1            0             0             0  \n",
       "3            0            0            1             0             0  \n",
       "4            1            0            0             0             0  \n",
       "\n",
       "[5 rows x 27 columns]"
      ]
     },
     "execution_count": 140,
     "metadata": {},
     "output_type": "execute_result"
    }
   ],
   "source": [
    "data.head()"
   ]
  },
  {
   "cell_type": "code",
   "execution_count": 141,
   "id": "6b473341",
   "metadata": {},
   "outputs": [
    {
     "data": {
      "text/plain": [
       "<Axes: >"
      ]
     },
     "execution_count": 141,
     "metadata": {},
     "output_type": "execute_result"
    },
    {
     "data": {
      "image/png": "[encoded data removed]",
      "text/plain": [
       "<Figure size 2000x800 with 2 Axes>"
      ]
     },
     "metadata": {},
     "output_type": "display_data"
    }
   ],
   "source": [
    "corrmatrix = data.corr()\n",
    "plt.subplots(figsize=(20,8))\n",
    "sns.heatmap(corrmatrix, vmin=-0.4,vmax=0.9,annot=True,linewidths=0.2,cmap='YlGnBu')"
   ]
  },
  {
   "cell_type": "code",
   "execution_count": 142,
   "id": "03078b2b",
   "metadata": {},
   "outputs": [
    {
     "data": {
      "text/plain": [
       "Index(['carat', 'table', 'x', 'y', 'z', 'price_new', 'sqrt_carat', 'cut_Fair',\n",
       "       'cut_Good', 'cut_Ideal', 'cut_Premium', 'cut_Very Good', 'color_D',\n",
       "       'color_E', 'color_F', 'color_G', 'color_H', 'color_I', 'color_J',\n",
       "       'clarity_I1', 'clarity_IF', 'clarity_SI1', 'clarity_SI2', 'clarity_VS1',\n",
       "       'clarity_VS2', 'clarity_VVS1', 'clarity_VVS2'],\n",
       "      dtype='object')"
      ]
     },
     "execution_count": 142,
     "metadata": {},
     "output_type": "execute_result"
    }
   ],
   "source": [
    "data.columns\n"
   ]
  },
  {
   "cell_type": "code",
   "execution_count": 143,
   "id": "c9b80f3f",
   "metadata": {},
   "outputs": [],
   "source": [
    "y = data['cut_Fair']\n",
    "x = data.drop('cut_Fair',axis =1)"
   ]
  },
  {
   "cell_type": "code",
   "execution_count": 144,
   "id": "ff45e05e",
   "metadata": {},
   "outputs": [],
   "source": [
    "from sklearn.model_selection import train_test_split\n",
    "x_train, x_test, y_train, y_test = train_test_split(x,y,random_state=42, test_size=0.2)"
   ]
  },
  {
   "cell_type": "code",
   "execution_count": 145,
   "id": "f47b4004",
   "metadata": {},
   "outputs": [],
   "source": [
    "from sklearn import linear_model\n",
    "lr = linear_model.LinearRegression()\n",
    "model = lr.fit(x_train,y_train)\n",
    "predictions = model.predict(x_test)"
   ]
  },
  {
   "cell_type": "code",
   "execution_count": 146,
   "id": "c1272d5a",
   "metadata": {},
   "outputs": [
    {
     "name": "stdout",
     "output_type": "stream",
     "text": [
      "MSE is: 8.437754447227642e-30\n"
     ]
    }
   ],
   "source": [
    "from sklearn.metrics import mean_squared_error\n",
    "print('MSE is:',mean_squared_error(y_test,predictions))"
   ]
  },
  {
   "cell_type": "code",
   "execution_count": 147,
   "id": "61b8f070",
   "metadata": {},
   "outputs": [
    {
     "name": "stdout",
     "output_type": "stream",
     "text": [
      "R sqaured value is: 1.0\n"
     ]
    }
   ],
   "source": [
    "from sklearn.metrics import r2_score\n",
    "print('R sqaured value is:',r2_score(y_test,predictions))"
   ]
  },
  {
   "cell_type": "markdown",
   "id": "a4b6bc51",
   "metadata": {},
   "source": [
    "# 4.Scaling"
   ]
  },
  {
   "cell_type": "code",
   "execution_count": 148,
   "id": "5974306e",
   "metadata": {},
   "outputs": [
    {
     "data": {
      "text/html": [
       "<div>\n",
       "<style scoped>\n",
       "    .dataframe tbody tr th:only-of-type {\n",
       "        vertical-align: middle;\n",
       "    }\n",
       "\n",
       "    .dataframe tbody tr th {\n",
       "        vertical-align: top;\n",
       "    }\n",
       "\n",
       "    .dataframe thead th {\n",
       "        text-align: right;\n",
       "    }\n",
       "</style>\n",
       "<table border=\"1\" class=\"dataframe\">\n",
       "  <thead>\n",
       "    <tr style=\"text-align: right;\">\n",
       "      <th></th>\n",
       "      <th>carat</th>\n",
       "      <th>table</th>\n",
       "      <th>x</th>\n",
       "      <th>y</th>\n",
       "      <th>z</th>\n",
       "      <th>price_new</th>\n",
       "      <th>sqrt_carat</th>\n",
       "      <th>cut_Good</th>\n",
       "      <th>cut_Ideal</th>\n",
       "      <th>cut_Premium</th>\n",
       "      <th>...</th>\n",
       "      <th>color_I</th>\n",
       "      <th>color_J</th>\n",
       "      <th>clarity_I1</th>\n",
       "      <th>clarity_IF</th>\n",
       "      <th>clarity_SI1</th>\n",
       "      <th>clarity_SI2</th>\n",
       "      <th>clarity_VS1</th>\n",
       "      <th>clarity_VS2</th>\n",
       "      <th>clarity_VVS1</th>\n",
       "      <th>clarity_VVS2</th>\n",
       "    </tr>\n",
       "  </thead>\n",
       "  <tbody>\n",
       "    <tr>\n",
       "      <th>count</th>\n",
       "      <td>53880.000000</td>\n",
       "      <td>53880.000000</td>\n",
       "      <td>53880.000000</td>\n",
       "      <td>53880.000000</td>\n",
       "      <td>53880.000000</td>\n",
       "      <td>53880.000000</td>\n",
       "      <td>53880.000000</td>\n",
       "      <td>53880.000000</td>\n",
       "      <td>53880.000000</td>\n",
       "      <td>53880.000000</td>\n",
       "      <td>...</td>\n",
       "      <td>53880.000000</td>\n",
       "      <td>53880.000000</td>\n",
       "      <td>53880.000000</td>\n",
       "      <td>53880.000000</td>\n",
       "      <td>53880.000000</td>\n",
       "      <td>53880.000000</td>\n",
       "      <td>53880.000000</td>\n",
       "      <td>53880.000000</td>\n",
       "      <td>53880.000000</td>\n",
       "      <td>53880.000000</td>\n",
       "    </tr>\n",
       "    <tr>\n",
       "      <th>mean</th>\n",
       "      <td>0.796244</td>\n",
       "      <td>57.453189</td>\n",
       "      <td>5.728535</td>\n",
       "      <td>5.730547</td>\n",
       "      <td>3.537347</td>\n",
       "      <td>1962.849545</td>\n",
       "      <td>0.856052</td>\n",
       "      <td>0.090794</td>\n",
       "      <td>0.399907</td>\n",
       "      <td>0.255716</td>\n",
       "      <td>...</td>\n",
       "      <td>0.100316</td>\n",
       "      <td>0.051930</td>\n",
       "      <td>0.013344</td>\n",
       "      <td>0.033222</td>\n",
       "      <td>0.242372</td>\n",
       "      <td>0.170286</td>\n",
       "      <td>0.151578</td>\n",
       "      <td>0.227357</td>\n",
       "      <td>0.067836</td>\n",
       "      <td>0.094005</td>\n",
       "    </tr>\n",
       "    <tr>\n",
       "      <th>std</th>\n",
       "      <td>0.469586</td>\n",
       "      <td>2.226868</td>\n",
       "      <td>1.118103</td>\n",
       "      <td>1.109870</td>\n",
       "      <td>0.690485</td>\n",
       "      <td>1990.066311</td>\n",
       "      <td>0.251832</td>\n",
       "      <td>0.287319</td>\n",
       "      <td>0.489884</td>\n",
       "      <td>0.436267</td>\n",
       "      <td>...</td>\n",
       "      <td>0.300423</td>\n",
       "      <td>0.221888</td>\n",
       "      <td>0.114746</td>\n",
       "      <td>0.179217</td>\n",
       "      <td>0.428522</td>\n",
       "      <td>0.375887</td>\n",
       "      <td>0.358614</td>\n",
       "      <td>0.419129</td>\n",
       "      <td>0.251466</td>\n",
       "      <td>0.291839</td>\n",
       "    </tr>\n",
       "    <tr>\n",
       "      <th>min</th>\n",
       "      <td>0.200000</td>\n",
       "      <td>43.000000</td>\n",
       "      <td>0.000000</td>\n",
       "      <td>0.000000</td>\n",
       "      <td>0.000000</td>\n",
       "      <td>163.000000</td>\n",
       "      <td>0.447214</td>\n",
       "      <td>0.000000</td>\n",
       "      <td>0.000000</td>\n",
       "      <td>0.000000</td>\n",
       "      <td>...</td>\n",
       "      <td>0.000000</td>\n",
       "      <td>0.000000</td>\n",
       "      <td>0.000000</td>\n",
       "      <td>0.000000</td>\n",
       "      <td>0.000000</td>\n",
       "      <td>0.000000</td>\n",
       "      <td>0.000000</td>\n",
       "      <td>0.000000</td>\n",
       "      <td>0.000000</td>\n",
       "      <td>0.000000</td>\n",
       "    </tr>\n",
       "    <tr>\n",
       "      <th>25%</th>\n",
       "      <td>0.400000</td>\n",
       "      <td>56.000000</td>\n",
       "      <td>4.710000</td>\n",
       "      <td>4.720000</td>\n",
       "      <td>2.910000</td>\n",
       "      <td>474.500000</td>\n",
       "      <td>0.632456</td>\n",
       "      <td>0.000000</td>\n",
       "      <td>0.000000</td>\n",
       "      <td>0.000000</td>\n",
       "      <td>...</td>\n",
       "      <td>0.000000</td>\n",
       "      <td>0.000000</td>\n",
       "      <td>0.000000</td>\n",
       "      <td>0.000000</td>\n",
       "      <td>0.000000</td>\n",
       "      <td>0.000000</td>\n",
       "      <td>0.000000</td>\n",
       "      <td>0.000000</td>\n",
       "      <td>0.000000</td>\n",
       "      <td>0.000000</td>\n",
       "    </tr>\n",
       "    <tr>\n",
       "      <th>50%</th>\n",
       "      <td>0.700000</td>\n",
       "      <td>57.000000</td>\n",
       "      <td>5.700000</td>\n",
       "      <td>5.710000</td>\n",
       "      <td>3.520000</td>\n",
       "      <td>1199.500000</td>\n",
       "      <td>0.836660</td>\n",
       "      <td>0.000000</td>\n",
       "      <td>0.000000</td>\n",
       "      <td>0.000000</td>\n",
       "      <td>...</td>\n",
       "      <td>0.000000</td>\n",
       "      <td>0.000000</td>\n",
       "      <td>0.000000</td>\n",
       "      <td>0.000000</td>\n",
       "      <td>0.000000</td>\n",
       "      <td>0.000000</td>\n",
       "      <td>0.000000</td>\n",
       "      <td>0.000000</td>\n",
       "      <td>0.000000</td>\n",
       "      <td>0.000000</td>\n",
       "    </tr>\n",
       "    <tr>\n",
       "      <th>75%</th>\n",
       "      <td>1.040000</td>\n",
       "      <td>59.000000</td>\n",
       "      <td>6.540000</td>\n",
       "      <td>6.540000</td>\n",
       "      <td>4.030000</td>\n",
       "      <td>2658.500000</td>\n",
       "      <td>1.019804</td>\n",
       "      <td>0.000000</td>\n",
       "      <td>1.000000</td>\n",
       "      <td>1.000000</td>\n",
       "      <td>...</td>\n",
       "      <td>0.000000</td>\n",
       "      <td>0.000000</td>\n",
       "      <td>0.000000</td>\n",
       "      <td>0.000000</td>\n",
       "      <td>0.000000</td>\n",
       "      <td>0.000000</td>\n",
       "      <td>0.000000</td>\n",
       "      <td>0.000000</td>\n",
       "      <td>0.000000</td>\n",
       "      <td>0.000000</td>\n",
       "    </tr>\n",
       "    <tr>\n",
       "      <th>max</th>\n",
       "      <td>3.050000</td>\n",
       "      <td>95.000000</td>\n",
       "      <td>9.260000</td>\n",
       "      <td>9.250000</td>\n",
       "      <td>5.730000</td>\n",
       "      <td>9411.500000</td>\n",
       "      <td>1.746425</td>\n",
       "      <td>1.000000</td>\n",
       "      <td>1.000000</td>\n",
       "      <td>1.000000</td>\n",
       "      <td>...</td>\n",
       "      <td>1.000000</td>\n",
       "      <td>1.000000</td>\n",
       "      <td>1.000000</td>\n",
       "      <td>1.000000</td>\n",
       "      <td>1.000000</td>\n",
       "      <td>1.000000</td>\n",
       "      <td>1.000000</td>\n",
       "      <td>1.000000</td>\n",
       "      <td>1.000000</td>\n",
       "      <td>1.000000</td>\n",
       "    </tr>\n",
       "  </tbody>\n",
       "</table>\n",
       "<p>8 rows × 26 columns</p>\n",
       "</div>"
      ],
      "text/plain": [
       "              carat         table             x             y             z  \\\n",
       "count  53880.000000  53880.000000  53880.000000  53880.000000  53880.000000   \n",
       "mean       0.796244     57.453189      5.728535      5.730547      3.537347   \n",
       "std        0.469586      2.226868      1.118103      1.109870      0.690485   \n",
       "min        0.200000     43.000000      0.000000      0.000000      0.000000   \n",
       "25%        0.400000     56.000000      4.710000      4.720000      2.910000   \n",
       "50%        0.700000     57.000000      5.700000      5.710000      3.520000   \n",
       "75%        1.040000     59.000000      6.540000      6.540000      4.030000   \n",
       "max        3.050000     95.000000      9.260000      9.250000      5.730000   \n",
       "\n",
       "          price_new    sqrt_carat      cut_Good     cut_Ideal   cut_Premium  \\\n",
       "count  53880.000000  53880.000000  53880.000000  53880.000000  53880.000000   \n",
       "mean    1962.849545      0.856052      0.090794      0.399907      0.255716   \n",
       "std     1990.066311      0.251832      0.287319      0.489884      0.436267   \n",
       "min      163.000000      0.447214      0.000000      0.000000      0.000000   \n",
       "25%      474.500000      0.632456      0.000000      0.000000      0.000000   \n",
       "50%     1199.500000      0.836660      0.000000      0.000000      0.000000   \n",
       "75%     2658.500000      1.019804      0.000000      1.000000      1.000000   \n",
       "max     9411.500000      1.746425      1.000000      1.000000      1.000000   \n",
       "\n",
       "       ...       color_I       color_J    clarity_I1    clarity_IF  \\\n",
       "count  ...  53880.000000  53880.000000  53880.000000  53880.000000   \n",
       "mean   ...      0.100316      0.051930      0.013344      0.033222   \n",
       "std    ...      0.300423      0.221888      0.114746      0.179217   \n",
       "min    ...      0.000000      0.000000      0.000000      0.000000   \n",
       "25%    ...      0.000000      0.000000      0.000000      0.000000   \n",
       "50%    ...      0.000000      0.000000      0.000000      0.000000   \n",
       "75%    ...      0.000000      0.000000      0.000000      0.000000   \n",
       "max    ...      1.000000      1.000000      1.000000      1.000000   \n",
       "\n",
       "        clarity_SI1   clarity_SI2   clarity_VS1   clarity_VS2  clarity_VVS1  \\\n",
       "count  53880.000000  53880.000000  53880.000000  53880.000000  53880.000000   \n",
       "mean       0.242372      0.170286      0.151578      0.227357      0.067836   \n",
       "std        0.428522      0.375887      0.358614      0.419129      0.251466   \n",
       "min        0.000000      0.000000      0.000000      0.000000      0.000000   \n",
       "25%        0.000000      0.000000      0.000000      0.000000      0.000000   \n",
       "50%        0.000000      0.000000      0.000000      0.000000      0.000000   \n",
       "75%        0.000000      0.000000      0.000000      0.000000      0.000000   \n",
       "max        1.000000      1.000000      1.000000      1.000000      1.000000   \n",
       "\n",
       "       clarity_VVS2  \n",
       "count  53880.000000  \n",
       "mean       0.094005  \n",
       "std        0.291839  \n",
       "min        0.000000  \n",
       "25%        0.000000  \n",
       "50%        0.000000  \n",
       "75%        0.000000  \n",
       "max        1.000000  \n",
       "\n",
       "[8 rows x 26 columns]"
      ]
     },
     "execution_count": 148,
     "metadata": {},
     "output_type": "execute_result"
    }
   ],
   "source": [
    "x.describe()"
   ]
  },
  {
   "cell_type": "code",
   "execution_count": 149,
   "id": "0f61bfe7",
   "metadata": {},
   "outputs": [
    {
     "data": {
      "text/plain": [
       "pandas.core.frame.DataFrame"
      ]
     },
     "execution_count": 149,
     "metadata": {},
     "output_type": "execute_result"
    }
   ],
   "source": [
    "type(x)"
   ]
  },
  {
   "cell_type": "code",
   "execution_count": 150,
   "id": "531da363",
   "metadata": {},
   "outputs": [
    {
     "data": {
      "text/plain": [
       "pandas.core.frame.DataFrame"
      ]
     },
     "execution_count": 150,
     "metadata": {},
     "output_type": "execute_result"
    }
   ],
   "source": [
    "type(data)"
   ]
  },
  {
   "cell_type": "code",
   "execution_count": 151,
   "id": "f05a102b",
   "metadata": {},
   "outputs": [],
   "source": [
    "from sklearn import preprocessing"
   ]
  },
  {
   "cell_type": "code",
   "execution_count": 152,
   "id": "54880a27",
   "metadata": {},
   "outputs": [],
   "source": [
    "standardisation = preprocessing.StandardScaler()\n",
    "x = standardisation.fit_transform(x)"
   ]
  },
  {
   "cell_type": "code",
   "execution_count": 153,
   "id": "af98d3de",
   "metadata": {},
   "outputs": [],
   "source": [
    "x=pd.DataFrame(x)"
   ]
  },
  {
   "cell_type": "code",
   "execution_count": 154,
   "id": "1f667e26",
   "metadata": {},
   "outputs": [
    {
     "data": {
      "text/html": [
       "<div>\n",
       "<style scoped>\n",
       "    .dataframe tbody tr th:only-of-type {\n",
       "        vertical-align: middle;\n",
       "    }\n",
       "\n",
       "    .dataframe tbody tr th {\n",
       "        vertical-align: top;\n",
       "    }\n",
       "\n",
       "    .dataframe thead th {\n",
       "        text-align: right;\n",
       "    }\n",
       "</style>\n",
       "<table border=\"1\" class=\"dataframe\">\n",
       "  <thead>\n",
       "    <tr style=\"text-align: right;\">\n",
       "      <th></th>\n",
       "      <th>0</th>\n",
       "      <th>1</th>\n",
       "      <th>2</th>\n",
       "      <th>3</th>\n",
       "      <th>4</th>\n",
       "      <th>5</th>\n",
       "      <th>6</th>\n",
       "      <th>7</th>\n",
       "      <th>8</th>\n",
       "      <th>9</th>\n",
       "      <th>...</th>\n",
       "      <th>16</th>\n",
       "      <th>17</th>\n",
       "      <th>18</th>\n",
       "      <th>19</th>\n",
       "      <th>20</th>\n",
       "      <th>21</th>\n",
       "      <th>22</th>\n",
       "      <th>23</th>\n",
       "      <th>24</th>\n",
       "      <th>25</th>\n",
       "    </tr>\n",
       "  </thead>\n",
       "  <tbody>\n",
       "    <tr>\n",
       "      <th>count</th>\n",
       "      <td>5.388000e+04</td>\n",
       "      <td>5.388000e+04</td>\n",
       "      <td>5.388000e+04</td>\n",
       "      <td>5.388000e+04</td>\n",
       "      <td>5.388000e+04</td>\n",
       "      <td>5.388000e+04</td>\n",
       "      <td>5.388000e+04</td>\n",
       "      <td>5.388000e+04</td>\n",
       "      <td>5.388000e+04</td>\n",
       "      <td>5.388000e+04</td>\n",
       "      <td>...</td>\n",
       "      <td>5.388000e+04</td>\n",
       "      <td>5.388000e+04</td>\n",
       "      <td>5.388000e+04</td>\n",
       "      <td>5.388000e+04</td>\n",
       "      <td>5.388000e+04</td>\n",
       "      <td>5.388000e+04</td>\n",
       "      <td>5.388000e+04</td>\n",
       "      <td>5.388000e+04</td>\n",
       "      <td>5.388000e+04</td>\n",
       "      <td>5.388000e+04</td>\n",
       "    </tr>\n",
       "    <tr>\n",
       "      <th>mean</th>\n",
       "      <td>1.139400e-16</td>\n",
       "      <td>9.695453e-16</td>\n",
       "      <td>1.012800e-16</td>\n",
       "      <td>-5.486002e-16</td>\n",
       "      <td>-1.101420e-15</td>\n",
       "      <td>4.220001e-18</td>\n",
       "      <td>1.139400e-16</td>\n",
       "      <td>1.529751e-17</td>\n",
       "      <td>-2.954001e-17</td>\n",
       "      <td>-1.160500e-17</td>\n",
       "      <td>...</td>\n",
       "      <td>5.275002e-17</td>\n",
       "      <td>5.591502e-17</td>\n",
       "      <td>-2.848501e-17</td>\n",
       "      <td>3.745251e-17</td>\n",
       "      <td>7.596003e-17</td>\n",
       "      <td>-3.165001e-17</td>\n",
       "      <td>-8.334503e-17</td>\n",
       "      <td>-3.165001e-17</td>\n",
       "      <td>-2.954001e-17</td>\n",
       "      <td>-3.376001e-17</td>\n",
       "    </tr>\n",
       "    <tr>\n",
       "      <th>std</th>\n",
       "      <td>1.000009e+00</td>\n",
       "      <td>1.000009e+00</td>\n",
       "      <td>1.000009e+00</td>\n",
       "      <td>1.000009e+00</td>\n",
       "      <td>1.000009e+00</td>\n",
       "      <td>1.000009e+00</td>\n",
       "      <td>1.000009e+00</td>\n",
       "      <td>1.000009e+00</td>\n",
       "      <td>1.000009e+00</td>\n",
       "      <td>1.000009e+00</td>\n",
       "      <td>...</td>\n",
       "      <td>1.000009e+00</td>\n",
       "      <td>1.000009e+00</td>\n",
       "      <td>1.000009e+00</td>\n",
       "      <td>1.000009e+00</td>\n",
       "      <td>1.000009e+00</td>\n",
       "      <td>1.000009e+00</td>\n",
       "      <td>1.000009e+00</td>\n",
       "      <td>1.000009e+00</td>\n",
       "      <td>1.000009e+00</td>\n",
       "      <td>1.000009e+00</td>\n",
       "    </tr>\n",
       "    <tr>\n",
       "      <th>min</th>\n",
       "      <td>-1.269733e+00</td>\n",
       "      <td>-6.490426e+00</td>\n",
       "      <td>-5.123490e+00</td>\n",
       "      <td>-5.163310e+00</td>\n",
       "      <td>-5.123039e+00</td>\n",
       "      <td>-9.044253e-01</td>\n",
       "      <td>-1.623475e+00</td>\n",
       "      <td>-3.160082e-01</td>\n",
       "      <td>-8.163387e-01</td>\n",
       "      <td>-5.861518e-01</td>\n",
       "      <td>...</td>\n",
       "      <td>-3.339173e-01</td>\n",
       "      <td>-2.340399e-01</td>\n",
       "      <td>-1.162968e-01</td>\n",
       "      <td>-1.853742e-01</td>\n",
       "      <td>-5.656049e-01</td>\n",
       "      <td>-4.530279e-01</td>\n",
       "      <td>-4.226797e-01</td>\n",
       "      <td>-5.424564e-01</td>\n",
       "      <td>-2.697638e-01</td>\n",
       "      <td>-3.221166e-01</td>\n",
       "    </tr>\n",
       "    <tr>\n",
       "      <th>25%</th>\n",
       "      <td>-8.438223e-01</td>\n",
       "      <td>-6.525766e-01</td>\n",
       "      <td>-9.109582e-01</td>\n",
       "      <td>-9.105184e-01</td>\n",
       "      <td>-9.085688e-01</td>\n",
       "      <td>-7.478964e-01</td>\n",
       "      <td>-8.878896e-01</td>\n",
       "      <td>-3.160082e-01</td>\n",
       "      <td>-8.163387e-01</td>\n",
       "      <td>-5.861518e-01</td>\n",
       "      <td>...</td>\n",
       "      <td>-3.339173e-01</td>\n",
       "      <td>-2.340399e-01</td>\n",
       "      <td>-1.162968e-01</td>\n",
       "      <td>-1.853742e-01</td>\n",
       "      <td>-5.656049e-01</td>\n",
       "      <td>-4.530279e-01</td>\n",
       "      <td>-4.226797e-01</td>\n",
       "      <td>-5.424564e-01</td>\n",
       "      <td>-2.697638e-01</td>\n",
       "      <td>-3.221166e-01</td>\n",
       "    </tr>\n",
       "    <tr>\n",
       "      <th>50%</th>\n",
       "      <td>-2.049558e-01</td>\n",
       "      <td>-2.035113e-01</td>\n",
       "      <td>-2.552155e-02</td>\n",
       "      <td>-1.851345e-02</td>\n",
       "      <td>-2.512300e-02</td>\n",
       "      <td>-3.835835e-01</td>\n",
       "      <td>-7.700539e-02</td>\n",
       "      <td>-3.160082e-01</td>\n",
       "      <td>-8.163387e-01</td>\n",
       "      <td>-5.861518e-01</td>\n",
       "      <td>...</td>\n",
       "      <td>-3.339173e-01</td>\n",
       "      <td>-2.340399e-01</td>\n",
       "      <td>-1.162968e-01</td>\n",
       "      <td>-1.853742e-01</td>\n",
       "      <td>-5.656049e-01</td>\n",
       "      <td>-4.530279e-01</td>\n",
       "      <td>-4.226797e-01</td>\n",
       "      <td>-5.424564e-01</td>\n",
       "      <td>-2.697638e-01</td>\n",
       "      <td>-3.221166e-01</td>\n",
       "    </tr>\n",
       "    <tr>\n",
       "      <th>75%</th>\n",
       "      <td>5.190929e-01</td>\n",
       "      <td>6.946193e-01</td>\n",
       "      <td>7.257581e-01</td>\n",
       "      <td>7.293291e-01</td>\n",
       "      <td>7.134956e-01</td>\n",
       "      <td>3.495647e-01</td>\n",
       "      <td>6.502483e-01</td>\n",
       "      <td>-3.160082e-01</td>\n",
       "      <td>1.224982e+00</td>\n",
       "      <td>1.706043e+00</td>\n",
       "      <td>...</td>\n",
       "      <td>-3.339173e-01</td>\n",
       "      <td>-2.340399e-01</td>\n",
       "      <td>-1.162968e-01</td>\n",
       "      <td>-1.853742e-01</td>\n",
       "      <td>-5.656049e-01</td>\n",
       "      <td>-4.530279e-01</td>\n",
       "      <td>-4.226797e-01</td>\n",
       "      <td>-5.424564e-01</td>\n",
       "      <td>-2.697638e-01</td>\n",
       "      <td>-3.221166e-01</td>\n",
       "    </tr>\n",
       "    <tr>\n",
       "      <th>max</th>\n",
       "      <td>4.799498e+00</td>\n",
       "      <td>1.686097e+01</td>\n",
       "      <td>3.158473e+00</td>\n",
       "      <td>3.171080e+00</td>\n",
       "      <td>3.175558e+00</td>\n",
       "      <td>3.742950e+00</td>\n",
       "      <td>3.535618e+00</td>\n",
       "      <td>3.164475e+00</td>\n",
       "      <td>1.224982e+00</td>\n",
       "      <td>1.706043e+00</td>\n",
       "      <td>...</td>\n",
       "      <td>2.994753e+00</td>\n",
       "      <td>4.272776e+00</td>\n",
       "      <td>8.598687e+00</td>\n",
       "      <td>5.394493e+00</td>\n",
       "      <td>1.768019e+00</td>\n",
       "      <td>2.207369e+00</td>\n",
       "      <td>2.365858e+00</td>\n",
       "      <td>1.843466e+00</td>\n",
       "      <td>3.706946e+00</td>\n",
       "      <td>3.104466e+00</td>\n",
       "    </tr>\n",
       "  </tbody>\n",
       "</table>\n",
       "<p>8 rows × 26 columns</p>\n",
       "</div>"
      ],
      "text/plain": [
       "                 0             1             2             3             4   \\\n",
       "count  5.388000e+04  5.388000e+04  5.388000e+04  5.388000e+04  5.388000e+04   \n",
       "mean   1.139400e-16  9.695453e-16  1.012800e-16 -5.486002e-16 -1.101420e-15   \n",
       "std    1.000009e+00  1.000009e+00  1.000009e+00  1.000009e+00  1.000009e+00   \n",
       "min   -1.269733e+00 -6.490426e+00 -5.123490e+00 -5.163310e+00 -5.123039e+00   \n",
       "25%   -8.438223e-01 -6.525766e-01 -9.109582e-01 -9.105184e-01 -9.085688e-01   \n",
       "50%   -2.049558e-01 -2.035113e-01 -2.552155e-02 -1.851345e-02 -2.512300e-02   \n",
       "75%    5.190929e-01  6.946193e-01  7.257581e-01  7.293291e-01  7.134956e-01   \n",
       "max    4.799498e+00  1.686097e+01  3.158473e+00  3.171080e+00  3.175558e+00   \n",
       "\n",
       "                 5             6             7             8             9   \\\n",
       "count  5.388000e+04  5.388000e+04  5.388000e+04  5.388000e+04  5.388000e+04   \n",
       "mean   4.220001e-18  1.139400e-16  1.529751e-17 -2.954001e-17 -1.160500e-17   \n",
       "std    1.000009e+00  1.000009e+00  1.000009e+00  1.000009e+00  1.000009e+00   \n",
       "min   -9.044253e-01 -1.623475e+00 -3.160082e-01 -8.163387e-01 -5.861518e-01   \n",
       "25%   -7.478964e-01 -8.878896e-01 -3.160082e-01 -8.163387e-01 -5.861518e-01   \n",
       "50%   -3.835835e-01 -7.700539e-02 -3.160082e-01 -8.163387e-01 -5.861518e-01   \n",
       "75%    3.495647e-01  6.502483e-01 -3.160082e-01  1.224982e+00  1.706043e+00   \n",
       "max    3.742950e+00  3.535618e+00  3.164475e+00  1.224982e+00  1.706043e+00   \n",
       "\n",
       "       ...            16            17            18            19  \\\n",
       "count  ...  5.388000e+04  5.388000e+04  5.388000e+04  5.388000e+04   \n",
       "mean   ...  5.275002e-17  5.591502e-17 -2.848501e-17  3.745251e-17   \n",
       "std    ...  1.000009e+00  1.000009e+00  1.000009e+00  1.000009e+00   \n",
       "min    ... -3.339173e-01 -2.340399e-01 -1.162968e-01 -1.853742e-01   \n",
       "25%    ... -3.339173e-01 -2.340399e-01 -1.162968e-01 -1.853742e-01   \n",
       "50%    ... -3.339173e-01 -2.340399e-01 -1.162968e-01 -1.853742e-01   \n",
       "75%    ... -3.339173e-01 -2.340399e-01 -1.162968e-01 -1.853742e-01   \n",
       "max    ...  2.994753e+00  4.272776e+00  8.598687e+00  5.394493e+00   \n",
       "\n",
       "                 20            21            22            23            24  \\\n",
       "count  5.388000e+04  5.388000e+04  5.388000e+04  5.388000e+04  5.388000e+04   \n",
       "mean   7.596003e-17 -3.165001e-17 -8.334503e-17 -3.165001e-17 -2.954001e-17   \n",
       "std    1.000009e+00  1.000009e+00  1.000009e+00  1.000009e+00  1.000009e+00   \n",
       "min   -5.656049e-01 -4.530279e-01 -4.226797e-01 -5.424564e-01 -2.697638e-01   \n",
       "25%   -5.656049e-01 -4.530279e-01 -4.226797e-01 -5.424564e-01 -2.697638e-01   \n",
       "50%   -5.656049e-01 -4.530279e-01 -4.226797e-01 -5.424564e-01 -2.697638e-01   \n",
       "75%   -5.656049e-01 -4.530279e-01 -4.226797e-01 -5.424564e-01 -2.697638e-01   \n",
       "max    1.768019e+00  2.207369e+00  2.365858e+00  1.843466e+00  3.706946e+00   \n",
       "\n",
       "                 25  \n",
       "count  5.388000e+04  \n",
       "mean  -3.376001e-17  \n",
       "std    1.000009e+00  \n",
       "min   -3.221166e-01  \n",
       "25%   -3.221166e-01  \n",
       "50%   -3.221166e-01  \n",
       "75%   -3.221166e-01  \n",
       "max    3.104466e+00  \n",
       "\n",
       "[8 rows x 26 columns]"
      ]
     },
     "execution_count": 154,
     "metadata": {},
     "output_type": "execute_result"
    }
   ],
   "source": [
    "x.describe()"
   ]
  },
  {
   "cell_type": "code",
   "execution_count": 155,
   "id": "91df542e",
   "metadata": {},
   "outputs": [
    {
     "name": "stdout",
     "output_type": "stream",
     "text": [
      "MSE is: 8.129689580453231e-31\n",
      "R sqaured value is: 1.0\n"
     ]
    }
   ],
   "source": [
    "x_train, x_test, y_train, y_test = train_test_split(x,y,random_state=42, test_size=0.2)\n",
    "lr = linear_model.LinearRegression()\n",
    "model = lr.fit(x_train,y_train)\n",
    "predictions = model.predict(x_test)\n",
    "print('MSE is:',mean_squared_error(y_test,predictions))\n",
    "print('R sqaured value is:',r2_score(y_test,predictions))"
   ]
  },
  {
   "cell_type": "markdown",
   "id": "1be5f843",
   "metadata": {},
   "source": [
    "# min max scaling"
   ]
  },
  {
   "cell_type": "code",
   "execution_count": 156,
   "id": "e20ecc39",
   "metadata": {},
   "outputs": [],
   "source": [
    "x = data.drop('cut_Fair',axis =1)"
   ]
  },
  {
   "cell_type": "code",
   "execution_count": 157,
   "id": "237990ed",
   "metadata": {},
   "outputs": [
    {
     "data": {
      "text/html": [
       "<div>\n",
       "<style scoped>\n",
       "    .dataframe tbody tr th:only-of-type {\n",
       "        vertical-align: middle;\n",
       "    }\n",
       "\n",
       "    .dataframe tbody tr th {\n",
       "        vertical-align: top;\n",
       "    }\n",
       "\n",
       "    .dataframe thead th {\n",
       "        text-align: right;\n",
       "    }\n",
       "</style>\n",
       "<table border=\"1\" class=\"dataframe\">\n",
       "  <thead>\n",
       "    <tr style=\"text-align: right;\">\n",
       "      <th></th>\n",
       "      <th>carat</th>\n",
       "      <th>table</th>\n",
       "      <th>x</th>\n",
       "      <th>y</th>\n",
       "      <th>z</th>\n",
       "      <th>price_new</th>\n",
       "      <th>sqrt_carat</th>\n",
       "      <th>cut_Good</th>\n",
       "      <th>cut_Ideal</th>\n",
       "      <th>cut_Premium</th>\n",
       "      <th>...</th>\n",
       "      <th>color_I</th>\n",
       "      <th>color_J</th>\n",
       "      <th>clarity_I1</th>\n",
       "      <th>clarity_IF</th>\n",
       "      <th>clarity_SI1</th>\n",
       "      <th>clarity_SI2</th>\n",
       "      <th>clarity_VS1</th>\n",
       "      <th>clarity_VS2</th>\n",
       "      <th>clarity_VVS1</th>\n",
       "      <th>clarity_VVS2</th>\n",
       "    </tr>\n",
       "  </thead>\n",
       "  <tbody>\n",
       "    <tr>\n",
       "      <th>count</th>\n",
       "      <td>53880.000000</td>\n",
       "      <td>53880.000000</td>\n",
       "      <td>53880.000000</td>\n",
       "      <td>53880.000000</td>\n",
       "      <td>53880.000000</td>\n",
       "      <td>53880.000000</td>\n",
       "      <td>53880.000000</td>\n",
       "      <td>53880.000000</td>\n",
       "      <td>53880.000000</td>\n",
       "      <td>53880.000000</td>\n",
       "      <td>...</td>\n",
       "      <td>53880.000000</td>\n",
       "      <td>53880.000000</td>\n",
       "      <td>53880.000000</td>\n",
       "      <td>53880.000000</td>\n",
       "      <td>53880.000000</td>\n",
       "      <td>53880.000000</td>\n",
       "      <td>53880.000000</td>\n",
       "      <td>53880.000000</td>\n",
       "      <td>53880.000000</td>\n",
       "      <td>53880.000000</td>\n",
       "    </tr>\n",
       "    <tr>\n",
       "      <th>mean</th>\n",
       "      <td>0.796244</td>\n",
       "      <td>57.453189</td>\n",
       "      <td>5.728535</td>\n",
       "      <td>5.730547</td>\n",
       "      <td>3.537347</td>\n",
       "      <td>1962.849545</td>\n",
       "      <td>0.856052</td>\n",
       "      <td>0.090794</td>\n",
       "      <td>0.399907</td>\n",
       "      <td>0.255716</td>\n",
       "      <td>...</td>\n",
       "      <td>0.100316</td>\n",
       "      <td>0.051930</td>\n",
       "      <td>0.013344</td>\n",
       "      <td>0.033222</td>\n",
       "      <td>0.242372</td>\n",
       "      <td>0.170286</td>\n",
       "      <td>0.151578</td>\n",
       "      <td>0.227357</td>\n",
       "      <td>0.067836</td>\n",
       "      <td>0.094005</td>\n",
       "    </tr>\n",
       "    <tr>\n",
       "      <th>std</th>\n",
       "      <td>0.469586</td>\n",
       "      <td>2.226868</td>\n",
       "      <td>1.118103</td>\n",
       "      <td>1.109870</td>\n",
       "      <td>0.690485</td>\n",
       "      <td>1990.066311</td>\n",
       "      <td>0.251832</td>\n",
       "      <td>0.287319</td>\n",
       "      <td>0.489884</td>\n",
       "      <td>0.436267</td>\n",
       "      <td>...</td>\n",
       "      <td>0.300423</td>\n",
       "      <td>0.221888</td>\n",
       "      <td>0.114746</td>\n",
       "      <td>0.179217</td>\n",
       "      <td>0.428522</td>\n",
       "      <td>0.375887</td>\n",
       "      <td>0.358614</td>\n",
       "      <td>0.419129</td>\n",
       "      <td>0.251466</td>\n",
       "      <td>0.291839</td>\n",
       "    </tr>\n",
       "    <tr>\n",
       "      <th>min</th>\n",
       "      <td>0.200000</td>\n",
       "      <td>43.000000</td>\n",
       "      <td>0.000000</td>\n",
       "      <td>0.000000</td>\n",
       "      <td>0.000000</td>\n",
       "      <td>163.000000</td>\n",
       "      <td>0.447214</td>\n",
       "      <td>0.000000</td>\n",
       "      <td>0.000000</td>\n",
       "      <td>0.000000</td>\n",
       "      <td>...</td>\n",
       "      <td>0.000000</td>\n",
       "      <td>0.000000</td>\n",
       "      <td>0.000000</td>\n",
       "      <td>0.000000</td>\n",
       "      <td>0.000000</td>\n",
       "      <td>0.000000</td>\n",
       "      <td>0.000000</td>\n",
       "      <td>0.000000</td>\n",
       "      <td>0.000000</td>\n",
       "      <td>0.000000</td>\n",
       "    </tr>\n",
       "    <tr>\n",
       "      <th>25%</th>\n",
       "      <td>0.400000</td>\n",
       "      <td>56.000000</td>\n",
       "      <td>4.710000</td>\n",
       "      <td>4.720000</td>\n",
       "      <td>2.910000</td>\n",
       "      <td>474.500000</td>\n",
       "      <td>0.632456</td>\n",
       "      <td>0.000000</td>\n",
       "      <td>0.000000</td>\n",
       "      <td>0.000000</td>\n",
       "      <td>...</td>\n",
       "      <td>0.000000</td>\n",
       "      <td>0.000000</td>\n",
       "      <td>0.000000</td>\n",
       "      <td>0.000000</td>\n",
       "      <td>0.000000</td>\n",
       "      <td>0.000000</td>\n",
       "      <td>0.000000</td>\n",
       "      <td>0.000000</td>\n",
       "      <td>0.000000</td>\n",
       "      <td>0.000000</td>\n",
       "    </tr>\n",
       "    <tr>\n",
       "      <th>50%</th>\n",
       "      <td>0.700000</td>\n",
       "      <td>57.000000</td>\n",
       "      <td>5.700000</td>\n",
       "      <td>5.710000</td>\n",
       "      <td>3.520000</td>\n",
       "      <td>1199.500000</td>\n",
       "      <td>0.836660</td>\n",
       "      <td>0.000000</td>\n",
       "      <td>0.000000</td>\n",
       "      <td>0.000000</td>\n",
       "      <td>...</td>\n",
       "      <td>0.000000</td>\n",
       "      <td>0.000000</td>\n",
       "      <td>0.000000</td>\n",
       "      <td>0.000000</td>\n",
       "      <td>0.000000</td>\n",
       "      <td>0.000000</td>\n",
       "      <td>0.000000</td>\n",
       "      <td>0.000000</td>\n",
       "      <td>0.000000</td>\n",
       "      <td>0.000000</td>\n",
       "    </tr>\n",
       "    <tr>\n",
       "      <th>75%</th>\n",
       "      <td>1.040000</td>\n",
       "      <td>59.000000</td>\n",
       "      <td>6.540000</td>\n",
       "      <td>6.540000</td>\n",
       "      <td>4.030000</td>\n",
       "      <td>2658.500000</td>\n",
       "      <td>1.019804</td>\n",
       "      <td>0.000000</td>\n",
       "      <td>1.000000</td>\n",
       "      <td>1.000000</td>\n",
       "      <td>...</td>\n",
       "      <td>0.000000</td>\n",
       "      <td>0.000000</td>\n",
       "      <td>0.000000</td>\n",
       "      <td>0.000000</td>\n",
       "      <td>0.000000</td>\n",
       "      <td>0.000000</td>\n",
       "      <td>0.000000</td>\n",
       "      <td>0.000000</td>\n",
       "      <td>0.000000</td>\n",
       "      <td>0.000000</td>\n",
       "    </tr>\n",
       "    <tr>\n",
       "      <th>max</th>\n",
       "      <td>3.050000</td>\n",
       "      <td>95.000000</td>\n",
       "      <td>9.260000</td>\n",
       "      <td>9.250000</td>\n",
       "      <td>5.730000</td>\n",
       "      <td>9411.500000</td>\n",
       "      <td>1.746425</td>\n",
       "      <td>1.000000</td>\n",
       "      <td>1.000000</td>\n",
       "      <td>1.000000</td>\n",
       "      <td>...</td>\n",
       "      <td>1.000000</td>\n",
       "      <td>1.000000</td>\n",
       "      <td>1.000000</td>\n",
       "      <td>1.000000</td>\n",
       "      <td>1.000000</td>\n",
       "      <td>1.000000</td>\n",
       "      <td>1.000000</td>\n",
       "      <td>1.000000</td>\n",
       "      <td>1.000000</td>\n",
       "      <td>1.000000</td>\n",
       "    </tr>\n",
       "  </tbody>\n",
       "</table>\n",
       "<p>8 rows × 26 columns</p>\n",
       "</div>"
      ],
      "text/plain": [
       "              carat         table             x             y             z  \\\n",
       "count  53880.000000  53880.000000  53880.000000  53880.000000  53880.000000   \n",
       "mean       0.796244     57.453189      5.728535      5.730547      3.537347   \n",
       "std        0.469586      2.226868      1.118103      1.109870      0.690485   \n",
       "min        0.200000     43.000000      0.000000      0.000000      0.000000   \n",
       "25%        0.400000     56.000000      4.710000      4.720000      2.910000   \n",
       "50%        0.700000     57.000000      5.700000      5.710000      3.520000   \n",
       "75%        1.040000     59.000000      6.540000      6.540000      4.030000   \n",
       "max        3.050000     95.000000      9.260000      9.250000      5.730000   \n",
       "\n",
       "          price_new    sqrt_carat      cut_Good     cut_Ideal   cut_Premium  \\\n",
       "count  53880.000000  53880.000000  53880.000000  53880.000000  53880.000000   \n",
       "mean    1962.849545      0.856052      0.090794      0.399907      0.255716   \n",
       "std     1990.066311      0.251832      0.287319      0.489884      0.436267   \n",
       "min      163.000000      0.447214      0.000000      0.000000      0.000000   \n",
       "25%      474.500000      0.632456      0.000000      0.000000      0.000000   \n",
       "50%     1199.500000      0.836660      0.000000      0.000000      0.000000   \n",
       "75%     2658.500000      1.019804      0.000000      1.000000      1.000000   \n",
       "max     9411.500000      1.746425      1.000000      1.000000      1.000000   \n",
       "\n",
       "       ...       color_I       color_J    clarity_I1    clarity_IF  \\\n",
       "count  ...  53880.000000  53880.000000  53880.000000  53880.000000   \n",
       "mean   ...      0.100316      0.051930      0.013344      0.033222   \n",
       "std    ...      0.300423      0.221888      0.114746      0.179217   \n",
       "min    ...      0.000000      0.000000      0.000000      0.000000   \n",
       "25%    ...      0.000000      0.000000      0.000000      0.000000   \n",
       "50%    ...      0.000000      0.000000      0.000000      0.000000   \n",
       "75%    ...      0.000000      0.000000      0.000000      0.000000   \n",
       "max    ...      1.000000      1.000000      1.000000      1.000000   \n",
       "\n",
       "        clarity_SI1   clarity_SI2   clarity_VS1   clarity_VS2  clarity_VVS1  \\\n",
       "count  53880.000000  53880.000000  53880.000000  53880.000000  53880.000000   \n",
       "mean       0.242372      0.170286      0.151578      0.227357      0.067836   \n",
       "std        0.428522      0.375887      0.358614      0.419129      0.251466   \n",
       "min        0.000000      0.000000      0.000000      0.000000      0.000000   \n",
       "25%        0.000000      0.000000      0.000000      0.000000      0.000000   \n",
       "50%        0.000000      0.000000      0.000000      0.000000      0.000000   \n",
       "75%        0.000000      0.000000      0.000000      0.000000      0.000000   \n",
       "max        1.000000      1.000000      1.000000      1.000000      1.000000   \n",
       "\n",
       "       clarity_VVS2  \n",
       "count  53880.000000  \n",
       "mean       0.094005  \n",
       "std        0.291839  \n",
       "min        0.000000  \n",
       "25%        0.000000  \n",
       "50%        0.000000  \n",
       "75%        0.000000  \n",
       "max        1.000000  \n",
       "\n",
       "[8 rows x 26 columns]"
      ]
     },
     "execution_count": 157,
     "metadata": {},
     "output_type": "execute_result"
    }
   ],
   "source": [
    "x.describe()"
   ]
  },
  {
   "cell_type": "code",
   "execution_count": 158,
   "id": "1a1ae4f5",
   "metadata": {},
   "outputs": [],
   "source": [
    "min_max = preprocessing.MinMaxScaler(feature_range=(0,1))"
   ]
  },
  {
   "cell_type": "code",
   "execution_count": 159,
   "id": "37e2d074",
   "metadata": {},
   "outputs": [],
   "source": [
    "x = min_max.fit_transform(x)"
   ]
  },
  {
   "cell_type": "code",
   "execution_count": 160,
   "id": "c718e46f",
   "metadata": {},
   "outputs": [],
   "source": [
    "x = pd.DataFrame(x)"
   ]
  },
  {
   "cell_type": "code",
   "execution_count": 161,
   "id": "f2d71c3d",
   "metadata": {},
   "outputs": [
    {
     "data": {
      "text/html": [
       "<div>\n",
       "<style scoped>\n",
       "    .dataframe tbody tr th:only-of-type {\n",
       "        vertical-align: middle;\n",
       "    }\n",
       "\n",
       "    .dataframe tbody tr th {\n",
       "        vertical-align: top;\n",
       "    }\n",
       "\n",
       "    .dataframe thead th {\n",
       "        text-align: right;\n",
       "    }\n",
       "</style>\n",
       "<table border=\"1\" class=\"dataframe\">\n",
       "  <thead>\n",
       "    <tr style=\"text-align: right;\">\n",
       "      <th></th>\n",
       "      <th>0</th>\n",
       "      <th>1</th>\n",
       "      <th>2</th>\n",
       "      <th>3</th>\n",
       "      <th>4</th>\n",
       "      <th>5</th>\n",
       "      <th>6</th>\n",
       "      <th>7</th>\n",
       "      <th>8</th>\n",
       "      <th>9</th>\n",
       "      <th>...</th>\n",
       "      <th>16</th>\n",
       "      <th>17</th>\n",
       "      <th>18</th>\n",
       "      <th>19</th>\n",
       "      <th>20</th>\n",
       "      <th>21</th>\n",
       "      <th>22</th>\n",
       "      <th>23</th>\n",
       "      <th>24</th>\n",
       "      <th>25</th>\n",
       "    </tr>\n",
       "  </thead>\n",
       "  <tbody>\n",
       "    <tr>\n",
       "      <th>count</th>\n",
       "      <td>53880.000000</td>\n",
       "      <td>53880.000000</td>\n",
       "      <td>53880.000000</td>\n",
       "      <td>53880.000000</td>\n",
       "      <td>53880.000000</td>\n",
       "      <td>53880.000000</td>\n",
       "      <td>53880.000000</td>\n",
       "      <td>53880.000000</td>\n",
       "      <td>53880.000000</td>\n",
       "      <td>53880.000000</td>\n",
       "      <td>...</td>\n",
       "      <td>53880.000000</td>\n",
       "      <td>53880.000000</td>\n",
       "      <td>53880.000000</td>\n",
       "      <td>53880.000000</td>\n",
       "      <td>53880.000000</td>\n",
       "      <td>53880.000000</td>\n",
       "      <td>53880.000000</td>\n",
       "      <td>53880.000000</td>\n",
       "      <td>53880.000000</td>\n",
       "      <td>53880.000000</td>\n",
       "    </tr>\n",
       "    <tr>\n",
       "      <th>mean</th>\n",
       "      <td>0.209208</td>\n",
       "      <td>0.277946</td>\n",
       "      <td>0.618632</td>\n",
       "      <td>0.619519</td>\n",
       "      <td>0.617338</td>\n",
       "      <td>0.194610</td>\n",
       "      <td>0.314682</td>\n",
       "      <td>0.090794</td>\n",
       "      <td>0.399907</td>\n",
       "      <td>0.255716</td>\n",
       "      <td>...</td>\n",
       "      <td>0.100316</td>\n",
       "      <td>0.051930</td>\n",
       "      <td>0.013344</td>\n",
       "      <td>0.033222</td>\n",
       "      <td>0.242372</td>\n",
       "      <td>0.170286</td>\n",
       "      <td>0.151578</td>\n",
       "      <td>0.227357</td>\n",
       "      <td>0.067836</td>\n",
       "      <td>0.094005</td>\n",
       "    </tr>\n",
       "    <tr>\n",
       "      <th>std</th>\n",
       "      <td>0.164767</td>\n",
       "      <td>0.042824</td>\n",
       "      <td>0.120745</td>\n",
       "      <td>0.119986</td>\n",
       "      <td>0.120503</td>\n",
       "      <td>0.215177</td>\n",
       "      <td>0.193834</td>\n",
       "      <td>0.287319</td>\n",
       "      <td>0.489884</td>\n",
       "      <td>0.436267</td>\n",
       "      <td>...</td>\n",
       "      <td>0.300423</td>\n",
       "      <td>0.221888</td>\n",
       "      <td>0.114746</td>\n",
       "      <td>0.179217</td>\n",
       "      <td>0.428522</td>\n",
       "      <td>0.375887</td>\n",
       "      <td>0.358614</td>\n",
       "      <td>0.419129</td>\n",
       "      <td>0.251466</td>\n",
       "      <td>0.291839</td>\n",
       "    </tr>\n",
       "    <tr>\n",
       "      <th>min</th>\n",
       "      <td>0.000000</td>\n",
       "      <td>0.000000</td>\n",
       "      <td>0.000000</td>\n",
       "      <td>0.000000</td>\n",
       "      <td>0.000000</td>\n",
       "      <td>0.000000</td>\n",
       "      <td>0.000000</td>\n",
       "      <td>0.000000</td>\n",
       "      <td>0.000000</td>\n",
       "      <td>0.000000</td>\n",
       "      <td>...</td>\n",
       "      <td>0.000000</td>\n",
       "      <td>0.000000</td>\n",
       "      <td>0.000000</td>\n",
       "      <td>0.000000</td>\n",
       "      <td>0.000000</td>\n",
       "      <td>0.000000</td>\n",
       "      <td>0.000000</td>\n",
       "      <td>0.000000</td>\n",
       "      <td>0.000000</td>\n",
       "      <td>0.000000</td>\n",
       "    </tr>\n",
       "    <tr>\n",
       "      <th>25%</th>\n",
       "      <td>0.070175</td>\n",
       "      <td>0.250000</td>\n",
       "      <td>0.508639</td>\n",
       "      <td>0.510270</td>\n",
       "      <td>0.507853</td>\n",
       "      <td>0.033681</td>\n",
       "      <td>0.142580</td>\n",
       "      <td>0.000000</td>\n",
       "      <td>0.000000</td>\n",
       "      <td>0.000000</td>\n",
       "      <td>...</td>\n",
       "      <td>0.000000</td>\n",
       "      <td>0.000000</td>\n",
       "      <td>0.000000</td>\n",
       "      <td>0.000000</td>\n",
       "      <td>0.000000</td>\n",
       "      <td>0.000000</td>\n",
       "      <td>0.000000</td>\n",
       "      <td>0.000000</td>\n",
       "      <td>0.000000</td>\n",
       "      <td>0.000000</td>\n",
       "    </tr>\n",
       "    <tr>\n",
       "      <th>50%</th>\n",
       "      <td>0.175439</td>\n",
       "      <td>0.269231</td>\n",
       "      <td>0.615551</td>\n",
       "      <td>0.617297</td>\n",
       "      <td>0.614311</td>\n",
       "      <td>0.112072</td>\n",
       "      <td>0.299756</td>\n",
       "      <td>0.000000</td>\n",
       "      <td>0.000000</td>\n",
       "      <td>0.000000</td>\n",
       "      <td>...</td>\n",
       "      <td>0.000000</td>\n",
       "      <td>0.000000</td>\n",
       "      <td>0.000000</td>\n",
       "      <td>0.000000</td>\n",
       "      <td>0.000000</td>\n",
       "      <td>0.000000</td>\n",
       "      <td>0.000000</td>\n",
       "      <td>0.000000</td>\n",
       "      <td>0.000000</td>\n",
       "      <td>0.000000</td>\n",
       "    </tr>\n",
       "    <tr>\n",
       "      <th>75%</th>\n",
       "      <td>0.294737</td>\n",
       "      <td>0.307692</td>\n",
       "      <td>0.706263</td>\n",
       "      <td>0.707027</td>\n",
       "      <td>0.703316</td>\n",
       "      <td>0.269828</td>\n",
       "      <td>0.440721</td>\n",
       "      <td>0.000000</td>\n",
       "      <td>1.000000</td>\n",
       "      <td>1.000000</td>\n",
       "      <td>...</td>\n",
       "      <td>0.000000</td>\n",
       "      <td>0.000000</td>\n",
       "      <td>0.000000</td>\n",
       "      <td>0.000000</td>\n",
       "      <td>0.000000</td>\n",
       "      <td>0.000000</td>\n",
       "      <td>0.000000</td>\n",
       "      <td>0.000000</td>\n",
       "      <td>0.000000</td>\n",
       "      <td>0.000000</td>\n",
       "    </tr>\n",
       "    <tr>\n",
       "      <th>max</th>\n",
       "      <td>1.000000</td>\n",
       "      <td>1.000000</td>\n",
       "      <td>1.000000</td>\n",
       "      <td>1.000000</td>\n",
       "      <td>1.000000</td>\n",
       "      <td>1.000000</td>\n",
       "      <td>1.000000</td>\n",
       "      <td>1.000000</td>\n",
       "      <td>1.000000</td>\n",
       "      <td>1.000000</td>\n",
       "      <td>...</td>\n",
       "      <td>1.000000</td>\n",
       "      <td>1.000000</td>\n",
       "      <td>1.000000</td>\n",
       "      <td>1.000000</td>\n",
       "      <td>1.000000</td>\n",
       "      <td>1.000000</td>\n",
       "      <td>1.000000</td>\n",
       "      <td>1.000000</td>\n",
       "      <td>1.000000</td>\n",
       "      <td>1.000000</td>\n",
       "    </tr>\n",
       "  </tbody>\n",
       "</table>\n",
       "<p>8 rows × 26 columns</p>\n",
       "</div>"
      ],
      "text/plain": [
       "                 0             1             2             3             4   \\\n",
       "count  53880.000000  53880.000000  53880.000000  53880.000000  53880.000000   \n",
       "mean       0.209208      0.277946      0.618632      0.619519      0.617338   \n",
       "std        0.164767      0.042824      0.120745      0.119986      0.120503   \n",
       "min        0.000000      0.000000      0.000000      0.000000      0.000000   \n",
       "25%        0.070175      0.250000      0.508639      0.510270      0.507853   \n",
       "50%        0.175439      0.269231      0.615551      0.617297      0.614311   \n",
       "75%        0.294737      0.307692      0.706263      0.707027      0.703316   \n",
       "max        1.000000      1.000000      1.000000      1.000000      1.000000   \n",
       "\n",
       "                 5             6             7             8             9   \\\n",
       "count  53880.000000  53880.000000  53880.000000  53880.000000  53880.000000   \n",
       "mean       0.194610      0.314682      0.090794      0.399907      0.255716   \n",
       "std        0.215177      0.193834      0.287319      0.489884      0.436267   \n",
       "min        0.000000      0.000000      0.000000      0.000000      0.000000   \n",
       "25%        0.033681      0.142580      0.000000      0.000000      0.000000   \n",
       "50%        0.112072      0.299756      0.000000      0.000000      0.000000   \n",
       "75%        0.269828      0.440721      0.000000      1.000000      1.000000   \n",
       "max        1.000000      1.000000      1.000000      1.000000      1.000000   \n",
       "\n",
       "       ...            16            17            18            19  \\\n",
       "count  ...  53880.000000  53880.000000  53880.000000  53880.000000   \n",
       "mean   ...      0.100316      0.051930      0.013344      0.033222   \n",
       "std    ...      0.300423      0.221888      0.114746      0.179217   \n",
       "min    ...      0.000000      0.000000      0.000000      0.000000   \n",
       "25%    ...      0.000000      0.000000      0.000000      0.000000   \n",
       "50%    ...      0.000000      0.000000      0.000000      0.000000   \n",
       "75%    ...      0.000000      0.000000      0.000000      0.000000   \n",
       "max    ...      1.000000      1.000000      1.000000      1.000000   \n",
       "\n",
       "                 20            21            22            23            24  \\\n",
       "count  53880.000000  53880.000000  53880.000000  53880.000000  53880.000000   \n",
       "mean       0.242372      0.170286      0.151578      0.227357      0.067836   \n",
       "std        0.428522      0.375887      0.358614      0.419129      0.251466   \n",
       "min        0.000000      0.000000      0.000000      0.000000      0.000000   \n",
       "25%        0.000000      0.000000      0.000000      0.000000      0.000000   \n",
       "50%        0.000000      0.000000      0.000000      0.000000      0.000000   \n",
       "75%        0.000000      0.000000      0.000000      0.000000      0.000000   \n",
       "max        1.000000      1.000000      1.000000      1.000000      1.000000   \n",
       "\n",
       "                 25  \n",
       "count  53880.000000  \n",
       "mean       0.094005  \n",
       "std        0.291839  \n",
       "min        0.000000  \n",
       "25%        0.000000  \n",
       "50%        0.000000  \n",
       "75%        0.000000  \n",
       "max        1.000000  \n",
       "\n",
       "[8 rows x 26 columns]"
      ]
     },
     "execution_count": 161,
     "metadata": {},
     "output_type": "execute_result"
    }
   ],
   "source": [
    "x.describe()"
   ]
  },
  {
   "cell_type": "code",
   "execution_count": 162,
   "id": "8f5b04e5",
   "metadata": {},
   "outputs": [
    {
     "name": "stdout",
     "output_type": "stream",
     "text": [
      "MSE is: 2.2001869438026643e-31\n",
      "R sqaured value is: 1.0\n"
     ]
    }
   ],
   "source": [
    "x_train, x_test, y_train, y_test = train_test_split(x,y,random_state=42, test_size=0.2)\n",
    "lr = linear_model.LinearRegression()\n",
    "model = lr.fit(x_train,y_train)\n",
    "predictions = model.predict(x_test)\n",
    "print('MSE is:',mean_squared_error(y_test,predictions))\n",
    "print('R sqaured value is:',r2_score(y_test,predictions))"
   ]
  },
  {
   "cell_type": "code",
   "execution_count": null,
   "id": "0aaa4daa",
   "metadata": {},
   "outputs": [],
   "source": []
  }
 ],
 "metadata": {
  "kernelspec": {
   "display_name": "Python 3 (ipykernel)",
   "language": "python",
   "name": "python3"
  },
  "language_info": {
   "codemirror_mode": {
    "name": "ipython",
    "version": 3
   },
   "file_extension": ".py",
   "mimetype": "text/x-python",
   "name": "python",
   "nbconvert_exporter": "python",
   "pygments_lexer": "ipython3",
   "version": "3.10.9"
  }
 },
 "nbformat": 4,
 "nbformat_minor": 5
}
